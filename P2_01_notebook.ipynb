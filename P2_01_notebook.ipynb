{
 "cells": [
  {
   "cell_type": "markdown",
   "id": "efe13c95",
   "metadata": {},
   "source": [
    "## Description de la problematique\n",
    "\n",
    "Je suis Data Scientist dans la start-up de la EdTech qui propose des contenus de formation en ligne pour un public de niveau lycée et université. Cette dernière a un projet d’expansion à l’international.Mon manager me confie la mission d’analyse exploratoire des données sur l’éducation de la banque mondiale  afin de déterminer si elles permettent d’informer sur  le projet.\n",
    "\n",
    "Cette analyse devrait nous permettre de repondre aux questions suivantes:\n",
    " - Quels sont les pays avec un fort potentiel de clients pour nos services ?\n",
    " - Pour chacun de ces pays, quelle sera l’évolution de ce potentiel de clients ?\n",
    " - Dans quels pays l'entreprise doit-elle opérer en priorité ?\n"
   ]
  },
  {
   "cell_type": "markdown",
   "id": "fe5e1623",
   "metadata": {},
   "source": [
    "## Analyse générale et découverte des jeux de données\n",
    "\n"
   ]
  },
  {
   "cell_type": "markdown",
   "id": "9186bf60",
   "metadata": {},
   "source": [
    "### Définition de l'environnement de travail\n",
    "\n",
    "Importons les librairies de Python utiles à notre analyse."
   ]
  },
  {
   "cell_type": "code",
   "execution_count": 1,
   "id": "e4f93f5e",
   "metadata": {},
   "outputs": [],
   "source": [
    "%matplotlib inline\n",
    "import matplotlib.pyplot as plt\n",
    "import numpy as np\n",
    "import pandas as pd\n",
    "import seaborn as sns"
   ]
  },
  {
   "cell_type": "markdown",
   "id": "db7a118c",
   "metadata": {},
   "source": [
    "### Définition des fonctions\n",
    "Définissons des fonctions utiles à notre exploration à savoir :\n",
    "Une qui nous permettra d'afficher le types de variables,la taille(nombres de lignes et colonnes) et les données statistiques du jeu de données, une autre pour calculer le taux et le nombre de valeurs manquantes du jeu."
   ]
  },
  {
   "cell_type": "code",
   "execution_count": 2,
   "id": "0a33f9f0",
   "metadata": {},
   "outputs": [],
   "source": [
    "# Taille du jeu, types de variable  et données statistique\n",
    "def analyse_jeu (data):\n",
    "    return[\"La taille du jeu de donnée est :\",\n",
    "           data.shape,\n",
    "           \" \" ,\"Les types variables du jeu donnée sont:\",data.dtypes,\n",
    "           \" \" , \"Les données statistiques du jeu de donnée sont:\",data.describe()]\n"
   ]
  },
  {
   "cell_type": "code",
   "execution_count": 3,
   "id": "5eaa5f5e",
   "metadata": {},
   "outputs": [],
   "source": [
    "# Pourcentage des valeurs manquantes\n",
    "def  pourcentage_valeurs_manq(data):\n",
    "    n=data.shape[0]\n",
    "    ret=pd.DataFrame(data.isna().sum(),columns=['nb_manquantes'])\n",
    "    ret['pourcentage']=(ret['nb_manquantes']/n)*100\n",
    "    return ret"
   ]
  },
  {
   "cell_type": "markdown",
   "id": "db1b6211",
   "metadata": {},
   "source": [
    "### Analyse du jeu de données 'EdStatsCountry'\n",
    "\n",
    "Le jeu de données nous fournit des statistiques de plusieurs pays relatif à leur monnaie utilisée,leur région du géographique,la norme de diffusion des données du FMI,la date du dernier recensement de la population,la dernière enquête auprès des ménages,la source des données les plus récentes sur les revenus et les dépenses,le dernier recensement agricole et industriel,les dernières données commerciales et de prélèvement d'eau."
   ]
  },
  {
   "cell_type": "code",
   "execution_count": 4,
   "id": "825efb14",
   "metadata": {},
   "outputs": [],
   "source": [
    "# Lecture du jeu de donnée\n",
    "Stats_Country= pd.read_csv(\"EdStatsCountry.csv\")\n"
   ]
  },
  {
   "cell_type": "markdown",
   "id": "86b488f1",
   "metadata": {},
   "source": [
    "Faisons une analyse de notre jeu de donnée:"
   ]
  },
  {
   "cell_type": "code",
   "execution_count": 5,
   "id": "19731238",
   "metadata": {},
   "outputs": [
    {
     "data": {
      "text/plain": [
       "['La taille du jeu de donnée est :',\n",
       " (241, 32),\n",
       " ' ',\n",
       " 'Les types variables du jeu donnée sont:',\n",
       " Country Code                                          object\n",
       " Short Name                                            object\n",
       " Table Name                                            object\n",
       " Long Name                                             object\n",
       " 2-alpha code                                          object\n",
       " Currency Unit                                         object\n",
       " Special Notes                                         object\n",
       " Region                                                object\n",
       " Income Group                                          object\n",
       " WB-2 code                                             object\n",
       " National accounts base year                           object\n",
       " National accounts reference year                     float64\n",
       " SNA price valuation                                   object\n",
       " Lending category                                      object\n",
       " Other groups                                          object\n",
       " System of National Accounts                           object\n",
       " Alternative conversion factor                         object\n",
       " PPP survey year                                       object\n",
       " Balance of Payments Manual in use                     object\n",
       " External debt Reporting status                        object\n",
       " System of trade                                       object\n",
       " Government Accounting concept                         object\n",
       " IMF data dissemination standard                       object\n",
       " Latest population census                              object\n",
       " Latest household survey                               object\n",
       " Source of most recent Income and expenditure data     object\n",
       " Vital registration complete                           object\n",
       " Latest agricultural census                            object\n",
       " Latest industrial data                               float64\n",
       " Latest trade data                                    float64\n",
       " Latest water withdrawal data                          object\n",
       " Unnamed: 31                                          float64\n",
       " dtype: object,\n",
       " ' ',\n",
       " 'Les données statistiques du jeu de donnée sont:',\n",
       "        National accounts reference year  Latest industrial data  \\\n",
       " count                          32.00000              107.000000   \n",
       " mean                         2001.53125             2008.102804   \n",
       " std                             5.24856                2.616834   \n",
       " min                          1987.00000             2000.000000   \n",
       " 25%                          1996.75000             2007.500000   \n",
       " 50%                          2002.00000             2009.000000   \n",
       " 75%                          2005.00000             2010.000000   \n",
       " max                          2012.00000             2010.000000   \n",
       " \n",
       "        Latest trade data  Unnamed: 31  \n",
       " count         185.000000          0.0  \n",
       " mean         2010.994595          NaN  \n",
       " std             2.569675          NaN  \n",
       " min          1995.000000          NaN  \n",
       " 25%          2011.000000          NaN  \n",
       " 50%          2012.000000          NaN  \n",
       " 75%          2012.000000          NaN  \n",
       " max          2012.000000          NaN  ]"
      ]
     },
     "execution_count": 5,
     "metadata": {},
     "output_type": "execute_result"
    }
   ],
   "source": [
    " analyse_jeu (Stats_Country)"
   ]
  },
  {
   "cell_type": "markdown",
   "id": "50ac8868",
   "metadata": {},
   "source": [
    "Nombre et pourcentage des valeurs manquantes du jeu:"
   ]
  },
  {
   "cell_type": "code",
   "execution_count": 6,
   "id": "a908429a",
   "metadata": {},
   "outputs": [
    {
     "data": {
      "text/html": [
       "<div>\n",
       "<style scoped>\n",
       "    .dataframe tbody tr th:only-of-type {\n",
       "        vertical-align: middle;\n",
       "    }\n",
       "\n",
       "    .dataframe tbody tr th {\n",
       "        vertical-align: top;\n",
       "    }\n",
       "\n",
       "    .dataframe thead th {\n",
       "        text-align: right;\n",
       "    }\n",
       "</style>\n",
       "<table border=\"1\" class=\"dataframe\">\n",
       "  <thead>\n",
       "    <tr style=\"text-align: right;\">\n",
       "      <th></th>\n",
       "      <th>nb_manquantes</th>\n",
       "      <th>pourcentage</th>\n",
       "    </tr>\n",
       "  </thead>\n",
       "  <tbody>\n",
       "    <tr>\n",
       "      <th>Country Code</th>\n",
       "      <td>0</td>\n",
       "      <td>0.000000</td>\n",
       "    </tr>\n",
       "    <tr>\n",
       "      <th>Short Name</th>\n",
       "      <td>0</td>\n",
       "      <td>0.000000</td>\n",
       "    </tr>\n",
       "    <tr>\n",
       "      <th>Table Name</th>\n",
       "      <td>0</td>\n",
       "      <td>0.000000</td>\n",
       "    </tr>\n",
       "    <tr>\n",
       "      <th>Long Name</th>\n",
       "      <td>0</td>\n",
       "      <td>0.000000</td>\n",
       "    </tr>\n",
       "    <tr>\n",
       "      <th>2-alpha code</th>\n",
       "      <td>3</td>\n",
       "      <td>1.244813</td>\n",
       "    </tr>\n",
       "    <tr>\n",
       "      <th>Currency Unit</th>\n",
       "      <td>26</td>\n",
       "      <td>10.788382</td>\n",
       "    </tr>\n",
       "    <tr>\n",
       "      <th>Special Notes</th>\n",
       "      <td>96</td>\n",
       "      <td>39.834025</td>\n",
       "    </tr>\n",
       "    <tr>\n",
       "      <th>Region</th>\n",
       "      <td>27</td>\n",
       "      <td>11.203320</td>\n",
       "    </tr>\n",
       "    <tr>\n",
       "      <th>Income Group</th>\n",
       "      <td>27</td>\n",
       "      <td>11.203320</td>\n",
       "    </tr>\n",
       "    <tr>\n",
       "      <th>WB-2 code</th>\n",
       "      <td>1</td>\n",
       "      <td>0.414938</td>\n",
       "    </tr>\n",
       "    <tr>\n",
       "      <th>National accounts base year</th>\n",
       "      <td>36</td>\n",
       "      <td>14.937759</td>\n",
       "    </tr>\n",
       "    <tr>\n",
       "      <th>National accounts reference year</th>\n",
       "      <td>209</td>\n",
       "      <td>86.721992</td>\n",
       "    </tr>\n",
       "    <tr>\n",
       "      <th>SNA price valuation</th>\n",
       "      <td>44</td>\n",
       "      <td>18.257261</td>\n",
       "    </tr>\n",
       "    <tr>\n",
       "      <th>Lending category</th>\n",
       "      <td>97</td>\n",
       "      <td>40.248963</td>\n",
       "    </tr>\n",
       "    <tr>\n",
       "      <th>Other groups</th>\n",
       "      <td>183</td>\n",
       "      <td>75.933610</td>\n",
       "    </tr>\n",
       "    <tr>\n",
       "      <th>System of National Accounts</th>\n",
       "      <td>26</td>\n",
       "      <td>10.788382</td>\n",
       "    </tr>\n",
       "    <tr>\n",
       "      <th>Alternative conversion factor</th>\n",
       "      <td>194</td>\n",
       "      <td>80.497925</td>\n",
       "    </tr>\n",
       "    <tr>\n",
       "      <th>PPP survey year</th>\n",
       "      <td>96</td>\n",
       "      <td>39.834025</td>\n",
       "    </tr>\n",
       "    <tr>\n",
       "      <th>Balance of Payments Manual in use</th>\n",
       "      <td>60</td>\n",
       "      <td>24.896266</td>\n",
       "    </tr>\n",
       "    <tr>\n",
       "      <th>External debt Reporting status</th>\n",
       "      <td>117</td>\n",
       "      <td>48.547718</td>\n",
       "    </tr>\n",
       "    <tr>\n",
       "      <th>System of trade</th>\n",
       "      <td>41</td>\n",
       "      <td>17.012448</td>\n",
       "    </tr>\n",
       "    <tr>\n",
       "      <th>Government Accounting concept</th>\n",
       "      <td>80</td>\n",
       "      <td>33.195021</td>\n",
       "    </tr>\n",
       "    <tr>\n",
       "      <th>IMF data dissemination standard</th>\n",
       "      <td>60</td>\n",
       "      <td>24.896266</td>\n",
       "    </tr>\n",
       "    <tr>\n",
       "      <th>Latest population census</th>\n",
       "      <td>28</td>\n",
       "      <td>11.618257</td>\n",
       "    </tr>\n",
       "    <tr>\n",
       "      <th>Latest household survey</th>\n",
       "      <td>100</td>\n",
       "      <td>41.493776</td>\n",
       "    </tr>\n",
       "    <tr>\n",
       "      <th>Source of most recent Income and expenditure data</th>\n",
       "      <td>81</td>\n",
       "      <td>33.609959</td>\n",
       "    </tr>\n",
       "    <tr>\n",
       "      <th>Vital registration complete</th>\n",
       "      <td>130</td>\n",
       "      <td>53.941909</td>\n",
       "    </tr>\n",
       "    <tr>\n",
       "      <th>Latest agricultural census</th>\n",
       "      <td>99</td>\n",
       "      <td>41.078838</td>\n",
       "    </tr>\n",
       "    <tr>\n",
       "      <th>Latest industrial data</th>\n",
       "      <td>134</td>\n",
       "      <td>55.601660</td>\n",
       "    </tr>\n",
       "    <tr>\n",
       "      <th>Latest trade data</th>\n",
       "      <td>56</td>\n",
       "      <td>23.236515</td>\n",
       "    </tr>\n",
       "    <tr>\n",
       "      <th>Latest water withdrawal data</th>\n",
       "      <td>62</td>\n",
       "      <td>25.726141</td>\n",
       "    </tr>\n",
       "    <tr>\n",
       "      <th>Unnamed: 31</th>\n",
       "      <td>241</td>\n",
       "      <td>100.000000</td>\n",
       "    </tr>\n",
       "  </tbody>\n",
       "</table>\n",
       "</div>"
      ],
      "text/plain": [
       "                                                   nb_manquantes  pourcentage\n",
       "Country Code                                                   0     0.000000\n",
       "Short Name                                                     0     0.000000\n",
       "Table Name                                                     0     0.000000\n",
       "Long Name                                                      0     0.000000\n",
       "2-alpha code                                                   3     1.244813\n",
       "Currency Unit                                                 26    10.788382\n",
       "Special Notes                                                 96    39.834025\n",
       "Region                                                        27    11.203320\n",
       "Income Group                                                  27    11.203320\n",
       "WB-2 code                                                      1     0.414938\n",
       "National accounts base year                                   36    14.937759\n",
       "National accounts reference year                             209    86.721992\n",
       "SNA price valuation                                           44    18.257261\n",
       "Lending category                                              97    40.248963\n",
       "Other groups                                                 183    75.933610\n",
       "System of National Accounts                                   26    10.788382\n",
       "Alternative conversion factor                                194    80.497925\n",
       "PPP survey year                                               96    39.834025\n",
       "Balance of Payments Manual in use                             60    24.896266\n",
       "External debt Reporting status                               117    48.547718\n",
       "System of trade                                               41    17.012448\n",
       "Government Accounting concept                                 80    33.195021\n",
       "IMF data dissemination standard                               60    24.896266\n",
       "Latest population census                                      28    11.618257\n",
       "Latest household survey                                      100    41.493776\n",
       "Source of most recent Income and expenditure data             81    33.609959\n",
       "Vital registration complete                                  130    53.941909\n",
       "Latest agricultural census                                    99    41.078838\n",
       "Latest industrial data                                       134    55.601660\n",
       "Latest trade data                                             56    23.236515\n",
       "Latest water withdrawal data                                  62    25.726141\n",
       "Unnamed: 31                                                  241   100.000000"
      ]
     },
     "execution_count": 6,
     "metadata": {},
     "output_type": "execute_result"
    }
   ],
   "source": [
    "pourcentage_valeurs_manq(Stats_Country)"
   ]
  },
  {
   "cell_type": "markdown",
   "id": "2e98f49f",
   "metadata": {},
   "source": [
    "Un aperçu rapide du jeu de donnée\n"
   ]
  },
  {
   "cell_type": "code",
   "execution_count": 7,
   "id": "aa492f54",
   "metadata": {},
   "outputs": [
    {
     "data": {
      "text/html": [
       "<div>\n",
       "<style scoped>\n",
       "    .dataframe tbody tr th:only-of-type {\n",
       "        vertical-align: middle;\n",
       "    }\n",
       "\n",
       "    .dataframe tbody tr th {\n",
       "        vertical-align: top;\n",
       "    }\n",
       "\n",
       "    .dataframe thead th {\n",
       "        text-align: right;\n",
       "    }\n",
       "</style>\n",
       "<table border=\"1\" class=\"dataframe\">\n",
       "  <thead>\n",
       "    <tr style=\"text-align: right;\">\n",
       "      <th></th>\n",
       "      <th>Country Code</th>\n",
       "      <th>Short Name</th>\n",
       "      <th>Table Name</th>\n",
       "      <th>Long Name</th>\n",
       "      <th>2-alpha code</th>\n",
       "      <th>Currency Unit</th>\n",
       "      <th>Special Notes</th>\n",
       "      <th>Region</th>\n",
       "      <th>Income Group</th>\n",
       "      <th>WB-2 code</th>\n",
       "      <th>...</th>\n",
       "      <th>IMF data dissemination standard</th>\n",
       "      <th>Latest population census</th>\n",
       "      <th>Latest household survey</th>\n",
       "      <th>Source of most recent Income and expenditure data</th>\n",
       "      <th>Vital registration complete</th>\n",
       "      <th>Latest agricultural census</th>\n",
       "      <th>Latest industrial data</th>\n",
       "      <th>Latest trade data</th>\n",
       "      <th>Latest water withdrawal data</th>\n",
       "      <th>Unnamed: 31</th>\n",
       "    </tr>\n",
       "  </thead>\n",
       "  <tbody>\n",
       "    <tr>\n",
       "      <th>0</th>\n",
       "      <td>ABW</td>\n",
       "      <td>Aruba</td>\n",
       "      <td>Aruba</td>\n",
       "      <td>Aruba</td>\n",
       "      <td>AW</td>\n",
       "      <td>Aruban florin</td>\n",
       "      <td>SNA data for 2000-2011 are updated from offici...</td>\n",
       "      <td>Latin America &amp; Caribbean</td>\n",
       "      <td>High income: nonOECD</td>\n",
       "      <td>AW</td>\n",
       "      <td>...</td>\n",
       "      <td>NaN</td>\n",
       "      <td>2010</td>\n",
       "      <td>NaN</td>\n",
       "      <td>NaN</td>\n",
       "      <td>Yes</td>\n",
       "      <td>NaN</td>\n",
       "      <td>NaN</td>\n",
       "      <td>2012.0</td>\n",
       "      <td>NaN</td>\n",
       "      <td>NaN</td>\n",
       "    </tr>\n",
       "    <tr>\n",
       "      <th>1</th>\n",
       "      <td>AFG</td>\n",
       "      <td>Afghanistan</td>\n",
       "      <td>Afghanistan</td>\n",
       "      <td>Islamic State of Afghanistan</td>\n",
       "      <td>AF</td>\n",
       "      <td>Afghan afghani</td>\n",
       "      <td>Fiscal year end: March 20; reporting period fo...</td>\n",
       "      <td>South Asia</td>\n",
       "      <td>Low income</td>\n",
       "      <td>AF</td>\n",
       "      <td>...</td>\n",
       "      <td>General Data Dissemination System (GDDS)</td>\n",
       "      <td>1979</td>\n",
       "      <td>Multiple Indicator Cluster Survey (MICS), 2010/11</td>\n",
       "      <td>Integrated household survey (IHS), 2008</td>\n",
       "      <td>NaN</td>\n",
       "      <td>2013/14</td>\n",
       "      <td>NaN</td>\n",
       "      <td>2012.0</td>\n",
       "      <td>2000</td>\n",
       "      <td>NaN</td>\n",
       "    </tr>\n",
       "    <tr>\n",
       "      <th>2</th>\n",
       "      <td>AGO</td>\n",
       "      <td>Angola</td>\n",
       "      <td>Angola</td>\n",
       "      <td>People's Republic of Angola</td>\n",
       "      <td>AO</td>\n",
       "      <td>Angolan kwanza</td>\n",
       "      <td>April 2013 database update: Based on IMF data,...</td>\n",
       "      <td>Sub-Saharan Africa</td>\n",
       "      <td>Upper middle income</td>\n",
       "      <td>AO</td>\n",
       "      <td>...</td>\n",
       "      <td>General Data Dissemination System (GDDS)</td>\n",
       "      <td>1970</td>\n",
       "      <td>Malaria Indicator Survey (MIS), 2011</td>\n",
       "      <td>Integrated household survey (IHS), 2008</td>\n",
       "      <td>NaN</td>\n",
       "      <td>2015</td>\n",
       "      <td>NaN</td>\n",
       "      <td>NaN</td>\n",
       "      <td>2005</td>\n",
       "      <td>NaN</td>\n",
       "    </tr>\n",
       "    <tr>\n",
       "      <th>3</th>\n",
       "      <td>ALB</td>\n",
       "      <td>Albania</td>\n",
       "      <td>Albania</td>\n",
       "      <td>Republic of Albania</td>\n",
       "      <td>AL</td>\n",
       "      <td>Albanian lek</td>\n",
       "      <td>NaN</td>\n",
       "      <td>Europe &amp; Central Asia</td>\n",
       "      <td>Upper middle income</td>\n",
       "      <td>AL</td>\n",
       "      <td>...</td>\n",
       "      <td>General Data Dissemination System (GDDS)</td>\n",
       "      <td>2011</td>\n",
       "      <td>Demographic and Health Survey (DHS), 2008/09</td>\n",
       "      <td>Living Standards Measurement Study Survey (LSM...</td>\n",
       "      <td>Yes</td>\n",
       "      <td>2012</td>\n",
       "      <td>2010.0</td>\n",
       "      <td>2012.0</td>\n",
       "      <td>2006</td>\n",
       "      <td>NaN</td>\n",
       "    </tr>\n",
       "    <tr>\n",
       "      <th>4</th>\n",
       "      <td>AND</td>\n",
       "      <td>Andorra</td>\n",
       "      <td>Andorra</td>\n",
       "      <td>Principality of Andorra</td>\n",
       "      <td>AD</td>\n",
       "      <td>Euro</td>\n",
       "      <td>NaN</td>\n",
       "      <td>Europe &amp; Central Asia</td>\n",
       "      <td>High income: nonOECD</td>\n",
       "      <td>AD</td>\n",
       "      <td>...</td>\n",
       "      <td>NaN</td>\n",
       "      <td>2011. Population figures compiled from adminis...</td>\n",
       "      <td>NaN</td>\n",
       "      <td>NaN</td>\n",
       "      <td>Yes</td>\n",
       "      <td>NaN</td>\n",
       "      <td>NaN</td>\n",
       "      <td>2006.0</td>\n",
       "      <td>NaN</td>\n",
       "      <td>NaN</td>\n",
       "    </tr>\n",
       "  </tbody>\n",
       "</table>\n",
       "<p>5 rows × 32 columns</p>\n",
       "</div>"
      ],
      "text/plain": [
       "  Country Code   Short Name   Table Name                     Long Name  \\\n",
       "0          ABW        Aruba        Aruba                         Aruba   \n",
       "1          AFG  Afghanistan  Afghanistan  Islamic State of Afghanistan   \n",
       "2          AGO       Angola       Angola   People's Republic of Angola   \n",
       "3          ALB      Albania      Albania           Republic of Albania   \n",
       "4          AND      Andorra      Andorra       Principality of Andorra   \n",
       "\n",
       "  2-alpha code   Currency Unit  \\\n",
       "0           AW   Aruban florin   \n",
       "1           AF  Afghan afghani   \n",
       "2           AO  Angolan kwanza   \n",
       "3           AL    Albanian lek   \n",
       "4           AD            Euro   \n",
       "\n",
       "                                       Special Notes  \\\n",
       "0  SNA data for 2000-2011 are updated from offici...   \n",
       "1  Fiscal year end: March 20; reporting period fo...   \n",
       "2  April 2013 database update: Based on IMF data,...   \n",
       "3                                                NaN   \n",
       "4                                                NaN   \n",
       "\n",
       "                      Region          Income Group WB-2 code  ...  \\\n",
       "0  Latin America & Caribbean  High income: nonOECD        AW  ...   \n",
       "1                 South Asia            Low income        AF  ...   \n",
       "2         Sub-Saharan Africa   Upper middle income        AO  ...   \n",
       "3      Europe & Central Asia   Upper middle income        AL  ...   \n",
       "4      Europe & Central Asia  High income: nonOECD        AD  ...   \n",
       "\n",
       "            IMF data dissemination standard  \\\n",
       "0                                       NaN   \n",
       "1  General Data Dissemination System (GDDS)   \n",
       "2  General Data Dissemination System (GDDS)   \n",
       "3  General Data Dissemination System (GDDS)   \n",
       "4                                       NaN   \n",
       "\n",
       "                            Latest population census  \\\n",
       "0                                               2010   \n",
       "1                                               1979   \n",
       "2                                               1970   \n",
       "3                                               2011   \n",
       "4  2011. Population figures compiled from adminis...   \n",
       "\n",
       "                             Latest household survey  \\\n",
       "0                                                NaN   \n",
       "1  Multiple Indicator Cluster Survey (MICS), 2010/11   \n",
       "2               Malaria Indicator Survey (MIS), 2011   \n",
       "3       Demographic and Health Survey (DHS), 2008/09   \n",
       "4                                                NaN   \n",
       "\n",
       "   Source of most recent Income and expenditure data  \\\n",
       "0                                                NaN   \n",
       "1            Integrated household survey (IHS), 2008   \n",
       "2            Integrated household survey (IHS), 2008   \n",
       "3  Living Standards Measurement Study Survey (LSM...   \n",
       "4                                                NaN   \n",
       "\n",
       "  Vital registration complete Latest agricultural census  \\\n",
       "0                         Yes                        NaN   \n",
       "1                         NaN                    2013/14   \n",
       "2                         NaN                       2015   \n",
       "3                         Yes                       2012   \n",
       "4                         Yes                        NaN   \n",
       "\n",
       "  Latest industrial data Latest trade data Latest water withdrawal data  \\\n",
       "0                    NaN            2012.0                          NaN   \n",
       "1                    NaN            2012.0                         2000   \n",
       "2                    NaN               NaN                         2005   \n",
       "3                 2010.0            2012.0                         2006   \n",
       "4                    NaN            2006.0                          NaN   \n",
       "\n",
       "  Unnamed: 31  \n",
       "0         NaN  \n",
       "1         NaN  \n",
       "2         NaN  \n",
       "3         NaN  \n",
       "4         NaN  \n",
       "\n",
       "[5 rows x 32 columns]"
      ]
     },
     "execution_count": 7,
     "metadata": {},
     "output_type": "execute_result"
    }
   ],
   "source": [
    "Stats_Country.head()"
   ]
  },
  {
   "cell_type": "markdown",
   "id": "9ced18c5",
   "metadata": {},
   "source": [
    "### Analyse du jeu de données 'EdStatsCountry-Series'\n",
    "\n",
    "Le jeu de donnée nous fournit des données complémentaires par rapport au jeu de donnée précedent: Un code indicateur est associé à chaque pays."
   ]
  },
  {
   "cell_type": "code",
   "execution_count": 8,
   "id": "8e06d044",
   "metadata": {},
   "outputs": [],
   "source": [
    "# Lecture du jeu de donnée\n",
    "Stats_Country_series= pd.read_csv(\"EdStatsCountry-Series.csv\")"
   ]
  },
  {
   "cell_type": "markdown",
   "id": "09a7894c",
   "metadata": {},
   "source": [
    "Faisons une analyse de notre jeu de donnée:"
   ]
  },
  {
   "cell_type": "code",
   "execution_count": 9,
   "id": "739f332d",
   "metadata": {},
   "outputs": [
    {
     "data": {
      "text/plain": [
       "['La taille du jeu de donnée est :',\n",
       " (613, 4),\n",
       " ' ',\n",
       " 'Les types variables du jeu donnée sont:',\n",
       " CountryCode     object\n",
       " SeriesCode      object\n",
       " DESCRIPTION     object\n",
       " Unnamed: 3     float64\n",
       " dtype: object,\n",
       " ' ',\n",
       " 'Les données statistiques du jeu de donnée sont:',\n",
       "        Unnamed: 3\n",
       " count         0.0\n",
       " mean          NaN\n",
       " std           NaN\n",
       " min           NaN\n",
       " 25%           NaN\n",
       " 50%           NaN\n",
       " 75%           NaN\n",
       " max           NaN]"
      ]
     },
     "execution_count": 9,
     "metadata": {},
     "output_type": "execute_result"
    }
   ],
   "source": [
    " analyse_jeu (Stats_Country_series)"
   ]
  },
  {
   "cell_type": "markdown",
   "id": "1c56d947",
   "metadata": {},
   "source": [
    "Nombre et pourcentage des valeurs manquantes du jeu:"
   ]
  },
  {
   "cell_type": "code",
   "execution_count": 10,
   "id": "628e0012",
   "metadata": {},
   "outputs": [
    {
     "data": {
      "text/html": [
       "<div>\n",
       "<style scoped>\n",
       "    .dataframe tbody tr th:only-of-type {\n",
       "        vertical-align: middle;\n",
       "    }\n",
       "\n",
       "    .dataframe tbody tr th {\n",
       "        vertical-align: top;\n",
       "    }\n",
       "\n",
       "    .dataframe thead th {\n",
       "        text-align: right;\n",
       "    }\n",
       "</style>\n",
       "<table border=\"1\" class=\"dataframe\">\n",
       "  <thead>\n",
       "    <tr style=\"text-align: right;\">\n",
       "      <th></th>\n",
       "      <th>nb_manquantes</th>\n",
       "      <th>pourcentage</th>\n",
       "    </tr>\n",
       "  </thead>\n",
       "  <tbody>\n",
       "    <tr>\n",
       "      <th>CountryCode</th>\n",
       "      <td>0</td>\n",
       "      <td>0.0</td>\n",
       "    </tr>\n",
       "    <tr>\n",
       "      <th>SeriesCode</th>\n",
       "      <td>0</td>\n",
       "      <td>0.0</td>\n",
       "    </tr>\n",
       "    <tr>\n",
       "      <th>DESCRIPTION</th>\n",
       "      <td>0</td>\n",
       "      <td>0.0</td>\n",
       "    </tr>\n",
       "    <tr>\n",
       "      <th>Unnamed: 3</th>\n",
       "      <td>613</td>\n",
       "      <td>100.0</td>\n",
       "    </tr>\n",
       "  </tbody>\n",
       "</table>\n",
       "</div>"
      ],
      "text/plain": [
       "             nb_manquantes  pourcentage\n",
       "CountryCode              0          0.0\n",
       "SeriesCode               0          0.0\n",
       "DESCRIPTION              0          0.0\n",
       "Unnamed: 3             613        100.0"
      ]
     },
     "execution_count": 10,
     "metadata": {},
     "output_type": "execute_result"
    }
   ],
   "source": [
    "pourcentage_valeurs_manq(Stats_Country_series)"
   ]
  },
  {
   "cell_type": "markdown",
   "id": "10ac1235",
   "metadata": {},
   "source": [
    "Un aperçu rapide du jeu de donnée:"
   ]
  },
  {
   "cell_type": "code",
   "execution_count": 11,
   "id": "8cc5eb64",
   "metadata": {},
   "outputs": [
    {
     "data": {
      "text/html": [
       "<div>\n",
       "<style scoped>\n",
       "    .dataframe tbody tr th:only-of-type {\n",
       "        vertical-align: middle;\n",
       "    }\n",
       "\n",
       "    .dataframe tbody tr th {\n",
       "        vertical-align: top;\n",
       "    }\n",
       "\n",
       "    .dataframe thead th {\n",
       "        text-align: right;\n",
       "    }\n",
       "</style>\n",
       "<table border=\"1\" class=\"dataframe\">\n",
       "  <thead>\n",
       "    <tr style=\"text-align: right;\">\n",
       "      <th></th>\n",
       "      <th>CountryCode</th>\n",
       "      <th>SeriesCode</th>\n",
       "      <th>DESCRIPTION</th>\n",
       "      <th>Unnamed: 3</th>\n",
       "    </tr>\n",
       "  </thead>\n",
       "  <tbody>\n",
       "    <tr>\n",
       "      <th>0</th>\n",
       "      <td>ABW</td>\n",
       "      <td>SP.POP.TOTL</td>\n",
       "      <td>Data sources : United Nations World Population...</td>\n",
       "      <td>NaN</td>\n",
       "    </tr>\n",
       "    <tr>\n",
       "      <th>1</th>\n",
       "      <td>ABW</td>\n",
       "      <td>SP.POP.GROW</td>\n",
       "      <td>Data sources: United Nations World Population ...</td>\n",
       "      <td>NaN</td>\n",
       "    </tr>\n",
       "    <tr>\n",
       "      <th>2</th>\n",
       "      <td>AFG</td>\n",
       "      <td>SP.POP.GROW</td>\n",
       "      <td>Data sources: United Nations World Population ...</td>\n",
       "      <td>NaN</td>\n",
       "    </tr>\n",
       "    <tr>\n",
       "      <th>3</th>\n",
       "      <td>AFG</td>\n",
       "      <td>NY.GDP.PCAP.PP.CD</td>\n",
       "      <td>Estimates are based on regression.</td>\n",
       "      <td>NaN</td>\n",
       "    </tr>\n",
       "    <tr>\n",
       "      <th>4</th>\n",
       "      <td>AFG</td>\n",
       "      <td>SP.POP.TOTL</td>\n",
       "      <td>Data sources : United Nations World Population...</td>\n",
       "      <td>NaN</td>\n",
       "    </tr>\n",
       "  </tbody>\n",
       "</table>\n",
       "</div>"
      ],
      "text/plain": [
       "  CountryCode         SeriesCode  \\\n",
       "0         ABW        SP.POP.TOTL   \n",
       "1         ABW        SP.POP.GROW   \n",
       "2         AFG        SP.POP.GROW   \n",
       "3         AFG  NY.GDP.PCAP.PP.CD   \n",
       "4         AFG        SP.POP.TOTL   \n",
       "\n",
       "                                         DESCRIPTION  Unnamed: 3  \n",
       "0  Data sources : United Nations World Population...         NaN  \n",
       "1  Data sources: United Nations World Population ...         NaN  \n",
       "2  Data sources: United Nations World Population ...         NaN  \n",
       "3                 Estimates are based on regression.         NaN  \n",
       "4  Data sources : United Nations World Population...         NaN  "
      ]
     },
     "execution_count": 11,
     "metadata": {},
     "output_type": "execute_result"
    }
   ],
   "source": [
    "Stats_Country_series.head()"
   ]
  },
  {
   "cell_type": "markdown",
   "id": "61d15f42",
   "metadata": {},
   "source": [
    "### Analyse du jeu de données 'EdStatsData'\n",
    "\n",
    "Le jeu de donnée fournit des informations sur des pays et régions du monde relatives à l'évolution entre 1970 et 2100 de 4000 indicateurs internationaux décrivant l’accès à l’éducation, l’obtention de diplômes et des informations relatives aux professeurs, aux dépenses liées à l’éducation."
   ]
  },
  {
   "cell_type": "code",
   "execution_count": 12,
   "id": "2eb31002",
   "metadata": {},
   "outputs": [],
   "source": [
    "# Lecture du jeu de donnée\n",
    "Stats_Data= pd.read_csv(\"EdStatsData.csv\")"
   ]
  },
  {
   "cell_type": "markdown",
   "id": "4a8f3dbf",
   "metadata": {},
   "source": [
    "Faisons une analyse de notre jeu de donnée:"
   ]
  },
  {
   "cell_type": "code",
   "execution_count": 13,
   "id": "432bab99",
   "metadata": {},
   "outputs": [
    {
     "data": {
      "text/plain": [
       "['La taille du jeu de donnée est :',\n",
       " (886930, 70),\n",
       " ' ',\n",
       " 'Les types variables du jeu donnée sont:',\n",
       " Country Name       object\n",
       " Country Code       object\n",
       " Indicator Name     object\n",
       " Indicator Code     object\n",
       " 1970              float64\n",
       "                    ...   \n",
       " 2085              float64\n",
       " 2090              float64\n",
       " 2095              float64\n",
       " 2100              float64\n",
       " Unnamed: 69       float64\n",
       " Length: 70, dtype: object,\n",
       " ' ',\n",
       " 'Les données statistiques du jeu de donnée sont:',\n",
       "                1970          1971          1972          1973          1974  \\\n",
       " count  7.228800e+04  3.553700e+04  3.561900e+04  3.554500e+04  3.573000e+04   \n",
       " mean   1.974772e+09  4.253638e+09  4.592365e+09  5.105006e+09  5.401493e+09   \n",
       " std    1.211687e+11  1.804814e+11  1.914083e+11  2.059170e+11  2.112150e+11   \n",
       " min   -1.435564e+00 -1.594625e+00 -3.056522e+00 -4.032582e+00 -4.213563e+00   \n",
       " 25%    8.900000e-01  8.853210e+00  9.240920e+00  9.595200e+00  9.861595e+00   \n",
       " 50%    6.317724e+00  6.316240e+01  6.655139e+01  6.969595e+01  7.087760e+01   \n",
       " 75%    6.251250e+01  5.655200e+04  5.863650e+04  6.202900e+04  6.383675e+04   \n",
       " max    1.903929e+13  1.986457e+13  2.100916e+13  2.238367e+13  2.282991e+13   \n",
       " \n",
       "                1975          1976          1977          1978          1979  \\\n",
       " count  8.730600e+04  3.748300e+04  3.757400e+04  3.757600e+04  3.680900e+04   \n",
       " mean   2.314288e+09  5.731808e+09  6.124437e+09  6.671489e+09  7.436724e+09   \n",
       " std    1.375059e+11  2.215546e+11  2.325489e+11  2.473986e+11  2.660957e+11   \n",
       " min   -3.658569e+00 -2.950945e+00 -3.174870e+00 -3.558749e+00 -2.973612e+00   \n",
       " 25%    1.400000e+00  9.312615e+00  9.519913e+00  1.000000e+01  1.000000e+01   \n",
       " 50%    9.677420e+00  7.101590e+01  7.133326e+01  7.290512e+01  7.510173e+01   \n",
       " 75%    7.854163e+01  5.682800e+04  5.739175e+04  5.940425e+04  6.411500e+04   \n",
       " max    2.300634e+13  2.424128e+13  2.521383e+13  2.622101e+13  2.730873e+13   \n",
       " \n",
       "        ...          2060          2065          2070          2075  \\\n",
       " count  ...  5.143600e+04  5.143600e+04  5.143600e+04  5.143600e+04   \n",
       " mean   ...  7.224868e+02  7.271290e+02  7.283779e+02  7.266484e+02   \n",
       " std    ...  2.215845e+04  2.287990e+04  2.352338e+04  2.408149e+04   \n",
       " min    ... -1.630000e+00 -1.440000e+00 -1.260000e+00 -1.090000e+00   \n",
       " 25%    ...  3.000000e-02  3.000000e-02  2.000000e-02  2.000000e-02   \n",
       " 50%    ...  2.300000e-01  2.300000e-01  2.300000e-01  2.300000e-01   \n",
       " 75%    ...  7.505000e+00  7.500000e+00  7.300000e+00  7.100000e+00   \n",
       " max    ...  2.951569e+06  3.070879e+06  3.169711e+06  3.246239e+06   \n",
       " \n",
       "                2080          2085          2090          2095          2100  \\\n",
       " count  5.143600e+04  5.143600e+04  5.143600e+04  5.143600e+04  5.143600e+04   \n",
       " mean   7.228327e+02  7.176899e+02  7.113072e+02  7.034274e+02  6.940296e+02   \n",
       " std    2.455897e+04  2.496587e+04  2.530183e+04  2.556069e+04  2.574189e+04   \n",
       " min   -9.200000e-01 -7.800000e-01 -6.500000e-01 -5.500000e-01 -4.500000e-01   \n",
       " 25%    1.000000e-02  1.000000e-02  1.000000e-02  1.000000e-02  1.000000e-02   \n",
       " 50%    2.300000e-01  2.300000e-01  2.300000e-01  2.300000e-01  2.200000e-01   \n",
       " 75%    6.722500e+00  6.080000e+00  5.462500e+00  4.680000e+00  4.032500e+00   \n",
       " max    3.301586e+06  3.337871e+06  3.354746e+06  3.351887e+06  3.330484e+06   \n",
       " \n",
       "        Unnamed: 69  \n",
       " count          0.0  \n",
       " mean           NaN  \n",
       " std            NaN  \n",
       " min            NaN  \n",
       " 25%            NaN  \n",
       " 50%            NaN  \n",
       " 75%            NaN  \n",
       " max            NaN  \n",
       " \n",
       " [8 rows x 66 columns]]"
      ]
     },
     "execution_count": 13,
     "metadata": {},
     "output_type": "execute_result"
    }
   ],
   "source": [
    "analyse_jeu (Stats_Data)"
   ]
  },
  {
   "cell_type": "markdown",
   "id": "c375c20e",
   "metadata": {},
   "source": [
    "Nombre et pourcentage des valeurs manquantes du jeu:"
   ]
  },
  {
   "cell_type": "code",
   "execution_count": 14,
   "id": "11f43c22",
   "metadata": {},
   "outputs": [
    {
     "data": {
      "text/html": [
       "<div>\n",
       "<style scoped>\n",
       "    .dataframe tbody tr th:only-of-type {\n",
       "        vertical-align: middle;\n",
       "    }\n",
       "\n",
       "    .dataframe tbody tr th {\n",
       "        vertical-align: top;\n",
       "    }\n",
       "\n",
       "    .dataframe thead th {\n",
       "        text-align: right;\n",
       "    }\n",
       "</style>\n",
       "<table border=\"1\" class=\"dataframe\">\n",
       "  <thead>\n",
       "    <tr style=\"text-align: right;\">\n",
       "      <th></th>\n",
       "      <th>nb_manquantes</th>\n",
       "      <th>pourcentage</th>\n",
       "    </tr>\n",
       "  </thead>\n",
       "  <tbody>\n",
       "    <tr>\n",
       "      <th>Country Name</th>\n",
       "      <td>0</td>\n",
       "      <td>0.000000</td>\n",
       "    </tr>\n",
       "    <tr>\n",
       "      <th>Country Code</th>\n",
       "      <td>0</td>\n",
       "      <td>0.000000</td>\n",
       "    </tr>\n",
       "    <tr>\n",
       "      <th>Indicator Name</th>\n",
       "      <td>0</td>\n",
       "      <td>0.000000</td>\n",
       "    </tr>\n",
       "    <tr>\n",
       "      <th>Indicator Code</th>\n",
       "      <td>0</td>\n",
       "      <td>0.000000</td>\n",
       "    </tr>\n",
       "    <tr>\n",
       "      <th>1970</th>\n",
       "      <td>814642</td>\n",
       "      <td>91.849639</td>\n",
       "    </tr>\n",
       "    <tr>\n",
       "      <th>...</th>\n",
       "      <td>...</td>\n",
       "      <td>...</td>\n",
       "    </tr>\n",
       "    <tr>\n",
       "      <th>2085</th>\n",
       "      <td>835494</td>\n",
       "      <td>94.200670</td>\n",
       "    </tr>\n",
       "    <tr>\n",
       "      <th>2090</th>\n",
       "      <td>835494</td>\n",
       "      <td>94.200670</td>\n",
       "    </tr>\n",
       "    <tr>\n",
       "      <th>2095</th>\n",
       "      <td>835494</td>\n",
       "      <td>94.200670</td>\n",
       "    </tr>\n",
       "    <tr>\n",
       "      <th>2100</th>\n",
       "      <td>835494</td>\n",
       "      <td>94.200670</td>\n",
       "    </tr>\n",
       "    <tr>\n",
       "      <th>Unnamed: 69</th>\n",
       "      <td>886930</td>\n",
       "      <td>100.000000</td>\n",
       "    </tr>\n",
       "  </tbody>\n",
       "</table>\n",
       "<p>70 rows × 2 columns</p>\n",
       "</div>"
      ],
      "text/plain": [
       "                nb_manquantes  pourcentage\n",
       "Country Name                0     0.000000\n",
       "Country Code                0     0.000000\n",
       "Indicator Name              0     0.000000\n",
       "Indicator Code              0     0.000000\n",
       "1970                   814642    91.849639\n",
       "...                       ...          ...\n",
       "2085                   835494    94.200670\n",
       "2090                   835494    94.200670\n",
       "2095                   835494    94.200670\n",
       "2100                   835494    94.200670\n",
       "Unnamed: 69            886930   100.000000\n",
       "\n",
       "[70 rows x 2 columns]"
      ]
     },
     "execution_count": 14,
     "metadata": {},
     "output_type": "execute_result"
    }
   ],
   "source": [
    "pourcentage_valeurs_manq(Stats_Data)"
   ]
  },
  {
   "cell_type": "markdown",
   "id": "57da80a5",
   "metadata": {},
   "source": [
    "Un aperçu rapide du jeu de donnée:"
   ]
  },
  {
   "cell_type": "code",
   "execution_count": 15,
   "id": "157702ec",
   "metadata": {},
   "outputs": [
    {
     "data": {
      "text/html": [
       "<div>\n",
       "<style scoped>\n",
       "    .dataframe tbody tr th:only-of-type {\n",
       "        vertical-align: middle;\n",
       "    }\n",
       "\n",
       "    .dataframe tbody tr th {\n",
       "        vertical-align: top;\n",
       "    }\n",
       "\n",
       "    .dataframe thead th {\n",
       "        text-align: right;\n",
       "    }\n",
       "</style>\n",
       "<table border=\"1\" class=\"dataframe\">\n",
       "  <thead>\n",
       "    <tr style=\"text-align: right;\">\n",
       "      <th></th>\n",
       "      <th>Country Name</th>\n",
       "      <th>Country Code</th>\n",
       "      <th>Indicator Name</th>\n",
       "      <th>Indicator Code</th>\n",
       "      <th>1970</th>\n",
       "      <th>1971</th>\n",
       "      <th>1972</th>\n",
       "      <th>1973</th>\n",
       "      <th>1974</th>\n",
       "      <th>1975</th>\n",
       "      <th>...</th>\n",
       "      <th>2060</th>\n",
       "      <th>2065</th>\n",
       "      <th>2070</th>\n",
       "      <th>2075</th>\n",
       "      <th>2080</th>\n",
       "      <th>2085</th>\n",
       "      <th>2090</th>\n",
       "      <th>2095</th>\n",
       "      <th>2100</th>\n",
       "      <th>Unnamed: 69</th>\n",
       "    </tr>\n",
       "  </thead>\n",
       "  <tbody>\n",
       "    <tr>\n",
       "      <th>0</th>\n",
       "      <td>Arab World</td>\n",
       "      <td>ARB</td>\n",
       "      <td>Adjusted net enrolment rate, lower secondary, ...</td>\n",
       "      <td>UIS.NERA.2</td>\n",
       "      <td>NaN</td>\n",
       "      <td>NaN</td>\n",
       "      <td>NaN</td>\n",
       "      <td>NaN</td>\n",
       "      <td>NaN</td>\n",
       "      <td>NaN</td>\n",
       "      <td>...</td>\n",
       "      <td>NaN</td>\n",
       "      <td>NaN</td>\n",
       "      <td>NaN</td>\n",
       "      <td>NaN</td>\n",
       "      <td>NaN</td>\n",
       "      <td>NaN</td>\n",
       "      <td>NaN</td>\n",
       "      <td>NaN</td>\n",
       "      <td>NaN</td>\n",
       "      <td>NaN</td>\n",
       "    </tr>\n",
       "    <tr>\n",
       "      <th>1</th>\n",
       "      <td>Arab World</td>\n",
       "      <td>ARB</td>\n",
       "      <td>Adjusted net enrolment rate, lower secondary, ...</td>\n",
       "      <td>UIS.NERA.2.F</td>\n",
       "      <td>NaN</td>\n",
       "      <td>NaN</td>\n",
       "      <td>NaN</td>\n",
       "      <td>NaN</td>\n",
       "      <td>NaN</td>\n",
       "      <td>NaN</td>\n",
       "      <td>...</td>\n",
       "      <td>NaN</td>\n",
       "      <td>NaN</td>\n",
       "      <td>NaN</td>\n",
       "      <td>NaN</td>\n",
       "      <td>NaN</td>\n",
       "      <td>NaN</td>\n",
       "      <td>NaN</td>\n",
       "      <td>NaN</td>\n",
       "      <td>NaN</td>\n",
       "      <td>NaN</td>\n",
       "    </tr>\n",
       "    <tr>\n",
       "      <th>2</th>\n",
       "      <td>Arab World</td>\n",
       "      <td>ARB</td>\n",
       "      <td>Adjusted net enrolment rate, lower secondary, ...</td>\n",
       "      <td>UIS.NERA.2.GPI</td>\n",
       "      <td>NaN</td>\n",
       "      <td>NaN</td>\n",
       "      <td>NaN</td>\n",
       "      <td>NaN</td>\n",
       "      <td>NaN</td>\n",
       "      <td>NaN</td>\n",
       "      <td>...</td>\n",
       "      <td>NaN</td>\n",
       "      <td>NaN</td>\n",
       "      <td>NaN</td>\n",
       "      <td>NaN</td>\n",
       "      <td>NaN</td>\n",
       "      <td>NaN</td>\n",
       "      <td>NaN</td>\n",
       "      <td>NaN</td>\n",
       "      <td>NaN</td>\n",
       "      <td>NaN</td>\n",
       "    </tr>\n",
       "    <tr>\n",
       "      <th>3</th>\n",
       "      <td>Arab World</td>\n",
       "      <td>ARB</td>\n",
       "      <td>Adjusted net enrolment rate, lower secondary, ...</td>\n",
       "      <td>UIS.NERA.2.M</td>\n",
       "      <td>NaN</td>\n",
       "      <td>NaN</td>\n",
       "      <td>NaN</td>\n",
       "      <td>NaN</td>\n",
       "      <td>NaN</td>\n",
       "      <td>NaN</td>\n",
       "      <td>...</td>\n",
       "      <td>NaN</td>\n",
       "      <td>NaN</td>\n",
       "      <td>NaN</td>\n",
       "      <td>NaN</td>\n",
       "      <td>NaN</td>\n",
       "      <td>NaN</td>\n",
       "      <td>NaN</td>\n",
       "      <td>NaN</td>\n",
       "      <td>NaN</td>\n",
       "      <td>NaN</td>\n",
       "    </tr>\n",
       "    <tr>\n",
       "      <th>4</th>\n",
       "      <td>Arab World</td>\n",
       "      <td>ARB</td>\n",
       "      <td>Adjusted net enrolment rate, primary, both sex...</td>\n",
       "      <td>SE.PRM.TENR</td>\n",
       "      <td>54.822121</td>\n",
       "      <td>54.894138</td>\n",
       "      <td>56.209438</td>\n",
       "      <td>57.267109</td>\n",
       "      <td>57.991138</td>\n",
       "      <td>59.36554</td>\n",
       "      <td>...</td>\n",
       "      <td>NaN</td>\n",
       "      <td>NaN</td>\n",
       "      <td>NaN</td>\n",
       "      <td>NaN</td>\n",
       "      <td>NaN</td>\n",
       "      <td>NaN</td>\n",
       "      <td>NaN</td>\n",
       "      <td>NaN</td>\n",
       "      <td>NaN</td>\n",
       "      <td>NaN</td>\n",
       "    </tr>\n",
       "  </tbody>\n",
       "</table>\n",
       "<p>5 rows × 70 columns</p>\n",
       "</div>"
      ],
      "text/plain": [
       "  Country Name Country Code  \\\n",
       "0   Arab World          ARB   \n",
       "1   Arab World          ARB   \n",
       "2   Arab World          ARB   \n",
       "3   Arab World          ARB   \n",
       "4   Arab World          ARB   \n",
       "\n",
       "                                      Indicator Name  Indicator Code  \\\n",
       "0  Adjusted net enrolment rate, lower secondary, ...      UIS.NERA.2   \n",
       "1  Adjusted net enrolment rate, lower secondary, ...    UIS.NERA.2.F   \n",
       "2  Adjusted net enrolment rate, lower secondary, ...  UIS.NERA.2.GPI   \n",
       "3  Adjusted net enrolment rate, lower secondary, ...    UIS.NERA.2.M   \n",
       "4  Adjusted net enrolment rate, primary, both sex...     SE.PRM.TENR   \n",
       "\n",
       "        1970       1971       1972       1973       1974      1975  ...  2060  \\\n",
       "0        NaN        NaN        NaN        NaN        NaN       NaN  ...   NaN   \n",
       "1        NaN        NaN        NaN        NaN        NaN       NaN  ...   NaN   \n",
       "2        NaN        NaN        NaN        NaN        NaN       NaN  ...   NaN   \n",
       "3        NaN        NaN        NaN        NaN        NaN       NaN  ...   NaN   \n",
       "4  54.822121  54.894138  56.209438  57.267109  57.991138  59.36554  ...   NaN   \n",
       "\n",
       "   2065  2070  2075  2080  2085  2090  2095  2100  Unnamed: 69  \n",
       "0   NaN   NaN   NaN   NaN   NaN   NaN   NaN   NaN          NaN  \n",
       "1   NaN   NaN   NaN   NaN   NaN   NaN   NaN   NaN          NaN  \n",
       "2   NaN   NaN   NaN   NaN   NaN   NaN   NaN   NaN          NaN  \n",
       "3   NaN   NaN   NaN   NaN   NaN   NaN   NaN   NaN          NaN  \n",
       "4   NaN   NaN   NaN   NaN   NaN   NaN   NaN   NaN          NaN  \n",
       "\n",
       "[5 rows x 70 columns]"
      ]
     },
     "execution_count": 15,
     "metadata": {},
     "output_type": "execute_result"
    }
   ],
   "source": [
    "Stats_Data.head()"
   ]
  },
  {
   "cell_type": "markdown",
   "id": "d57990c9",
   "metadata": {},
   "source": [
    "### Analyse du jeu de données 'EdStatsFootNote'\n",
    "\n",
    "Le jeu de donnée nous fournit des informations complémentaires  par rapport au jeu de donnée précedent notamment des informations relatives aux indicateurs en y associant l'année et une description."
   ]
  },
  {
   "cell_type": "code",
   "execution_count": 16,
   "id": "efe0f49a",
   "metadata": {},
   "outputs": [],
   "source": [
    "# Lecture du jeu de donnée\n",
    "Stats_FootNote= pd.read_csv(\"EdStatsFootNote.csv\")"
   ]
  },
  {
   "cell_type": "markdown",
   "id": "87be5795",
   "metadata": {},
   "source": [
    "Faisons une analyse de notre jeu de donnée:"
   ]
  },
  {
   "cell_type": "code",
   "execution_count": 17,
   "id": "af20bce2",
   "metadata": {},
   "outputs": [
    {
     "data": {
      "text/plain": [
       "['La taille du jeu de donnée est :',\n",
       " (643638, 5),\n",
       " ' ',\n",
       " 'Les types variables du jeu donnée sont:',\n",
       " CountryCode     object\n",
       " SeriesCode      object\n",
       " Year            object\n",
       " DESCRIPTION     object\n",
       " Unnamed: 4     float64\n",
       " dtype: object,\n",
       " ' ',\n",
       " 'Les données statistiques du jeu de donnée sont:',\n",
       "        Unnamed: 4\n",
       " count         0.0\n",
       " mean          NaN\n",
       " std           NaN\n",
       " min           NaN\n",
       " 25%           NaN\n",
       " 50%           NaN\n",
       " 75%           NaN\n",
       " max           NaN]"
      ]
     },
     "execution_count": 17,
     "metadata": {},
     "output_type": "execute_result"
    }
   ],
   "source": [
    "analyse_jeu (Stats_FootNote)"
   ]
  },
  {
   "cell_type": "markdown",
   "id": "22a1708c",
   "metadata": {},
   "source": [
    "Nombre et pourcentage des valeurs manquantes du jeu:"
   ]
  },
  {
   "cell_type": "code",
   "execution_count": 18,
   "id": "c5f8a13b",
   "metadata": {},
   "outputs": [
    {
     "data": {
      "text/html": [
       "<div>\n",
       "<style scoped>\n",
       "    .dataframe tbody tr th:only-of-type {\n",
       "        vertical-align: middle;\n",
       "    }\n",
       "\n",
       "    .dataframe tbody tr th {\n",
       "        vertical-align: top;\n",
       "    }\n",
       "\n",
       "    .dataframe thead th {\n",
       "        text-align: right;\n",
       "    }\n",
       "</style>\n",
       "<table border=\"1\" class=\"dataframe\">\n",
       "  <thead>\n",
       "    <tr style=\"text-align: right;\">\n",
       "      <th></th>\n",
       "      <th>nb_manquantes</th>\n",
       "      <th>pourcentage</th>\n",
       "    </tr>\n",
       "  </thead>\n",
       "  <tbody>\n",
       "    <tr>\n",
       "      <th>CountryCode</th>\n",
       "      <td>0</td>\n",
       "      <td>0.0</td>\n",
       "    </tr>\n",
       "    <tr>\n",
       "      <th>SeriesCode</th>\n",
       "      <td>0</td>\n",
       "      <td>0.0</td>\n",
       "    </tr>\n",
       "    <tr>\n",
       "      <th>Year</th>\n",
       "      <td>0</td>\n",
       "      <td>0.0</td>\n",
       "    </tr>\n",
       "    <tr>\n",
       "      <th>DESCRIPTION</th>\n",
       "      <td>0</td>\n",
       "      <td>0.0</td>\n",
       "    </tr>\n",
       "    <tr>\n",
       "      <th>Unnamed: 4</th>\n",
       "      <td>643638</td>\n",
       "      <td>100.0</td>\n",
       "    </tr>\n",
       "  </tbody>\n",
       "</table>\n",
       "</div>"
      ],
      "text/plain": [
       "             nb_manquantes  pourcentage\n",
       "CountryCode              0          0.0\n",
       "SeriesCode               0          0.0\n",
       "Year                     0          0.0\n",
       "DESCRIPTION              0          0.0\n",
       "Unnamed: 4          643638        100.0"
      ]
     },
     "execution_count": 18,
     "metadata": {},
     "output_type": "execute_result"
    }
   ],
   "source": [
    "pourcentage_valeurs_manq(Stats_FootNote)"
   ]
  },
  {
   "cell_type": "markdown",
   "id": "dce0d38a",
   "metadata": {},
   "source": [
    "Un aperçu rapide du jeu de donnée:"
   ]
  },
  {
   "cell_type": "code",
   "execution_count": 19,
   "id": "53fe9bd7",
   "metadata": {},
   "outputs": [
    {
     "data": {
      "text/html": [
       "<div>\n",
       "<style scoped>\n",
       "    .dataframe tbody tr th:only-of-type {\n",
       "        vertical-align: middle;\n",
       "    }\n",
       "\n",
       "    .dataframe tbody tr th {\n",
       "        vertical-align: top;\n",
       "    }\n",
       "\n",
       "    .dataframe thead th {\n",
       "        text-align: right;\n",
       "    }\n",
       "</style>\n",
       "<table border=\"1\" class=\"dataframe\">\n",
       "  <thead>\n",
       "    <tr style=\"text-align: right;\">\n",
       "      <th></th>\n",
       "      <th>CountryCode</th>\n",
       "      <th>SeriesCode</th>\n",
       "      <th>Year</th>\n",
       "      <th>DESCRIPTION</th>\n",
       "      <th>Unnamed: 4</th>\n",
       "    </tr>\n",
       "  </thead>\n",
       "  <tbody>\n",
       "    <tr>\n",
       "      <th>0</th>\n",
       "      <td>ABW</td>\n",
       "      <td>SE.PRE.ENRL.FE</td>\n",
       "      <td>YR2001</td>\n",
       "      <td>Country estimation.</td>\n",
       "      <td>NaN</td>\n",
       "    </tr>\n",
       "    <tr>\n",
       "      <th>1</th>\n",
       "      <td>ABW</td>\n",
       "      <td>SE.TER.TCHR.FE</td>\n",
       "      <td>YR2005</td>\n",
       "      <td>Country estimation.</td>\n",
       "      <td>NaN</td>\n",
       "    </tr>\n",
       "    <tr>\n",
       "      <th>2</th>\n",
       "      <td>ABW</td>\n",
       "      <td>SE.PRE.TCHR.FE</td>\n",
       "      <td>YR2000</td>\n",
       "      <td>Country estimation.</td>\n",
       "      <td>NaN</td>\n",
       "    </tr>\n",
       "    <tr>\n",
       "      <th>3</th>\n",
       "      <td>ABW</td>\n",
       "      <td>SE.SEC.ENRL.GC</td>\n",
       "      <td>YR2004</td>\n",
       "      <td>Country estimation.</td>\n",
       "      <td>NaN</td>\n",
       "    </tr>\n",
       "    <tr>\n",
       "      <th>4</th>\n",
       "      <td>ABW</td>\n",
       "      <td>SE.PRE.TCHR</td>\n",
       "      <td>YR2006</td>\n",
       "      <td>Country estimation.</td>\n",
       "      <td>NaN</td>\n",
       "    </tr>\n",
       "  </tbody>\n",
       "</table>\n",
       "</div>"
      ],
      "text/plain": [
       "  CountryCode      SeriesCode    Year          DESCRIPTION  Unnamed: 4\n",
       "0         ABW  SE.PRE.ENRL.FE  YR2001  Country estimation.         NaN\n",
       "1         ABW  SE.TER.TCHR.FE  YR2005  Country estimation.         NaN\n",
       "2         ABW  SE.PRE.TCHR.FE  YR2000  Country estimation.         NaN\n",
       "3         ABW  SE.SEC.ENRL.GC  YR2004  Country estimation.         NaN\n",
       "4         ABW     SE.PRE.TCHR  YR2006  Country estimation.         NaN"
      ]
     },
     "execution_count": 19,
     "metadata": {},
     "output_type": "execute_result"
    }
   ],
   "source": [
    "Stats_FootNote.head()"
   ]
  },
  {
   "cell_type": "markdown",
   "id": "4bf29d93",
   "metadata": {},
   "source": [
    "### Analyse du jeu de données 'EdStatsSeries'\n",
    "\n",
    "Le jeu de donnée nous fournit  egalement des informations complémentaires par rapport au jeu de donnée 'EdStatsData' notamment des informations relatives à la méthode d'agrégation,les limites et exceptions,le concept statistique et méthodologie utilisée,la pertinence pour le développement."
   ]
  },
  {
   "cell_type": "code",
   "execution_count": 20,
   "id": "f116d38f",
   "metadata": {},
   "outputs": [],
   "source": [
    "# Lecture du jeu de donnée\n",
    "Stats_Series= pd.read_csv(\"EdStatsSeries.csv\")"
   ]
  },
  {
   "cell_type": "markdown",
   "id": "f1edcbf8",
   "metadata": {},
   "source": [
    "Faisons une analyse de notre jeu de donnée:"
   ]
  },
  {
   "cell_type": "code",
   "execution_count": 21,
   "id": "acf3e3b3",
   "metadata": {},
   "outputs": [
    {
     "data": {
      "text/plain": [
       "['La taille du jeu de donnée est :',\n",
       " (3665, 21),\n",
       " ' ',\n",
       " 'Les types variables du jeu donnée sont:',\n",
       " Series Code                             object\n",
       " Topic                                   object\n",
       " Indicator Name                          object\n",
       " Short definition                        object\n",
       " Long definition                         object\n",
       " Unit of measure                        float64\n",
       " Periodicity                             object\n",
       " Base Period                             object\n",
       " Other notes                             object\n",
       " Aggregation method                      object\n",
       " Limitations and exceptions              object\n",
       " Notes from original source             float64\n",
       " General comments                        object\n",
       " Source                                  object\n",
       " Statistical concept and methodology     object\n",
       " Development relevance                   object\n",
       " Related source links                    object\n",
       " Other web links                        float64\n",
       " Related indicators                     float64\n",
       " License Type                           float64\n",
       " Unnamed: 20                            float64\n",
       " dtype: object,\n",
       " ' ',\n",
       " 'Les données statistiques du jeu de donnée sont:',\n",
       "        Unit of measure  Notes from original source  Other web links  \\\n",
       " count              0.0                         0.0              0.0   \n",
       " mean               NaN                         NaN              NaN   \n",
       " std                NaN                         NaN              NaN   \n",
       " min                NaN                         NaN              NaN   \n",
       " 25%                NaN                         NaN              NaN   \n",
       " 50%                NaN                         NaN              NaN   \n",
       " 75%                NaN                         NaN              NaN   \n",
       " max                NaN                         NaN              NaN   \n",
       " \n",
       "        Related indicators  License Type  Unnamed: 20  \n",
       " count                 0.0           0.0          0.0  \n",
       " mean                  NaN           NaN          NaN  \n",
       " std                   NaN           NaN          NaN  \n",
       " min                   NaN           NaN          NaN  \n",
       " 25%                   NaN           NaN          NaN  \n",
       " 50%                   NaN           NaN          NaN  \n",
       " 75%                   NaN           NaN          NaN  \n",
       " max                   NaN           NaN          NaN  ]"
      ]
     },
     "execution_count": 21,
     "metadata": {},
     "output_type": "execute_result"
    }
   ],
   "source": [
    "analyse_jeu (Stats_Series)"
   ]
  },
  {
   "cell_type": "markdown",
   "id": "5da24006",
   "metadata": {},
   "source": [
    "Nombre et pourcentage des valeurs manquantes du jeu:"
   ]
  },
  {
   "cell_type": "code",
   "execution_count": 22,
   "id": "b39edeb2",
   "metadata": {},
   "outputs": [
    {
     "data": {
      "text/html": [
       "<div>\n",
       "<style scoped>\n",
       "    .dataframe tbody tr th:only-of-type {\n",
       "        vertical-align: middle;\n",
       "    }\n",
       "\n",
       "    .dataframe tbody tr th {\n",
       "        vertical-align: top;\n",
       "    }\n",
       "\n",
       "    .dataframe thead th {\n",
       "        text-align: right;\n",
       "    }\n",
       "</style>\n",
       "<table border=\"1\" class=\"dataframe\">\n",
       "  <thead>\n",
       "    <tr style=\"text-align: right;\">\n",
       "      <th></th>\n",
       "      <th>nb_manquantes</th>\n",
       "      <th>pourcentage</th>\n",
       "    </tr>\n",
       "  </thead>\n",
       "  <tbody>\n",
       "    <tr>\n",
       "      <th>Series Code</th>\n",
       "      <td>0</td>\n",
       "      <td>0.000000</td>\n",
       "    </tr>\n",
       "    <tr>\n",
       "      <th>Topic</th>\n",
       "      <td>0</td>\n",
       "      <td>0.000000</td>\n",
       "    </tr>\n",
       "    <tr>\n",
       "      <th>Indicator Name</th>\n",
       "      <td>0</td>\n",
       "      <td>0.000000</td>\n",
       "    </tr>\n",
       "    <tr>\n",
       "      <th>Short definition</th>\n",
       "      <td>1509</td>\n",
       "      <td>41.173261</td>\n",
       "    </tr>\n",
       "    <tr>\n",
       "      <th>Long definition</th>\n",
       "      <td>0</td>\n",
       "      <td>0.000000</td>\n",
       "    </tr>\n",
       "    <tr>\n",
       "      <th>Unit of measure</th>\n",
       "      <td>3665</td>\n",
       "      <td>100.000000</td>\n",
       "    </tr>\n",
       "    <tr>\n",
       "      <th>Periodicity</th>\n",
       "      <td>3566</td>\n",
       "      <td>97.298772</td>\n",
       "    </tr>\n",
       "    <tr>\n",
       "      <th>Base Period</th>\n",
       "      <td>3351</td>\n",
       "      <td>91.432469</td>\n",
       "    </tr>\n",
       "    <tr>\n",
       "      <th>Other notes</th>\n",
       "      <td>3113</td>\n",
       "      <td>84.938608</td>\n",
       "    </tr>\n",
       "    <tr>\n",
       "      <th>Aggregation method</th>\n",
       "      <td>3618</td>\n",
       "      <td>98.717599</td>\n",
       "    </tr>\n",
       "    <tr>\n",
       "      <th>Limitations and exceptions</th>\n",
       "      <td>3651</td>\n",
       "      <td>99.618008</td>\n",
       "    </tr>\n",
       "    <tr>\n",
       "      <th>Notes from original source</th>\n",
       "      <td>3665</td>\n",
       "      <td>100.000000</td>\n",
       "    </tr>\n",
       "    <tr>\n",
       "      <th>General comments</th>\n",
       "      <td>3651</td>\n",
       "      <td>99.618008</td>\n",
       "    </tr>\n",
       "    <tr>\n",
       "      <th>Source</th>\n",
       "      <td>0</td>\n",
       "      <td>0.000000</td>\n",
       "    </tr>\n",
       "    <tr>\n",
       "      <th>Statistical concept and methodology</th>\n",
       "      <td>3642</td>\n",
       "      <td>99.372442</td>\n",
       "    </tr>\n",
       "    <tr>\n",
       "      <th>Development relevance</th>\n",
       "      <td>3662</td>\n",
       "      <td>99.918145</td>\n",
       "    </tr>\n",
       "    <tr>\n",
       "      <th>Related source links</th>\n",
       "      <td>3450</td>\n",
       "      <td>94.133697</td>\n",
       "    </tr>\n",
       "    <tr>\n",
       "      <th>Other web links</th>\n",
       "      <td>3665</td>\n",
       "      <td>100.000000</td>\n",
       "    </tr>\n",
       "    <tr>\n",
       "      <th>Related indicators</th>\n",
       "      <td>3665</td>\n",
       "      <td>100.000000</td>\n",
       "    </tr>\n",
       "    <tr>\n",
       "      <th>License Type</th>\n",
       "      <td>3665</td>\n",
       "      <td>100.000000</td>\n",
       "    </tr>\n",
       "    <tr>\n",
       "      <th>Unnamed: 20</th>\n",
       "      <td>3665</td>\n",
       "      <td>100.000000</td>\n",
       "    </tr>\n",
       "  </tbody>\n",
       "</table>\n",
       "</div>"
      ],
      "text/plain": [
       "                                     nb_manquantes  pourcentage\n",
       "Series Code                                      0     0.000000\n",
       "Topic                                            0     0.000000\n",
       "Indicator Name                                   0     0.000000\n",
       "Short definition                              1509    41.173261\n",
       "Long definition                                  0     0.000000\n",
       "Unit of measure                               3665   100.000000\n",
       "Periodicity                                   3566    97.298772\n",
       "Base Period                                   3351    91.432469\n",
       "Other notes                                   3113    84.938608\n",
       "Aggregation method                            3618    98.717599\n",
       "Limitations and exceptions                    3651    99.618008\n",
       "Notes from original source                    3665   100.000000\n",
       "General comments                              3651    99.618008\n",
       "Source                                           0     0.000000\n",
       "Statistical concept and methodology           3642    99.372442\n",
       "Development relevance                         3662    99.918145\n",
       "Related source links                          3450    94.133697\n",
       "Other web links                               3665   100.000000\n",
       "Related indicators                            3665   100.000000\n",
       "License Type                                  3665   100.000000\n",
       "Unnamed: 20                                   3665   100.000000"
      ]
     },
     "execution_count": 22,
     "metadata": {},
     "output_type": "execute_result"
    }
   ],
   "source": [
    "pourcentage_valeurs_manq(Stats_Series)"
   ]
  },
  {
   "cell_type": "markdown",
   "id": "c104cd0e",
   "metadata": {},
   "source": [
    "Un aperçu rapide du jeu de donnée:"
   ]
  },
  {
   "cell_type": "code",
   "execution_count": 23,
   "id": "2fba3fc8",
   "metadata": {},
   "outputs": [
    {
     "data": {
      "text/html": [
       "<div>\n",
       "<style scoped>\n",
       "    .dataframe tbody tr th:only-of-type {\n",
       "        vertical-align: middle;\n",
       "    }\n",
       "\n",
       "    .dataframe tbody tr th {\n",
       "        vertical-align: top;\n",
       "    }\n",
       "\n",
       "    .dataframe thead th {\n",
       "        text-align: right;\n",
       "    }\n",
       "</style>\n",
       "<table border=\"1\" class=\"dataframe\">\n",
       "  <thead>\n",
       "    <tr style=\"text-align: right;\">\n",
       "      <th></th>\n",
       "      <th>Series Code</th>\n",
       "      <th>Topic</th>\n",
       "      <th>Indicator Name</th>\n",
       "      <th>Short definition</th>\n",
       "      <th>Long definition</th>\n",
       "      <th>Unit of measure</th>\n",
       "      <th>Periodicity</th>\n",
       "      <th>Base Period</th>\n",
       "      <th>Other notes</th>\n",
       "      <th>Aggregation method</th>\n",
       "      <th>...</th>\n",
       "      <th>Notes from original source</th>\n",
       "      <th>General comments</th>\n",
       "      <th>Source</th>\n",
       "      <th>Statistical concept and methodology</th>\n",
       "      <th>Development relevance</th>\n",
       "      <th>Related source links</th>\n",
       "      <th>Other web links</th>\n",
       "      <th>Related indicators</th>\n",
       "      <th>License Type</th>\n",
       "      <th>Unnamed: 20</th>\n",
       "    </tr>\n",
       "  </thead>\n",
       "  <tbody>\n",
       "    <tr>\n",
       "      <th>0</th>\n",
       "      <td>BAR.NOED.1519.FE.ZS</td>\n",
       "      <td>Attainment</td>\n",
       "      <td>Barro-Lee: Percentage of female population age...</td>\n",
       "      <td>Percentage of female population age 15-19 with...</td>\n",
       "      <td>Percentage of female population age 15-19 with...</td>\n",
       "      <td>NaN</td>\n",
       "      <td>NaN</td>\n",
       "      <td>NaN</td>\n",
       "      <td>NaN</td>\n",
       "      <td>NaN</td>\n",
       "      <td>...</td>\n",
       "      <td>NaN</td>\n",
       "      <td>NaN</td>\n",
       "      <td>Robert J. Barro and Jong-Wha Lee: http://www.b...</td>\n",
       "      <td>NaN</td>\n",
       "      <td>NaN</td>\n",
       "      <td>NaN</td>\n",
       "      <td>NaN</td>\n",
       "      <td>NaN</td>\n",
       "      <td>NaN</td>\n",
       "      <td>NaN</td>\n",
       "    </tr>\n",
       "    <tr>\n",
       "      <th>1</th>\n",
       "      <td>BAR.NOED.1519.ZS</td>\n",
       "      <td>Attainment</td>\n",
       "      <td>Barro-Lee: Percentage of population age 15-19 ...</td>\n",
       "      <td>Percentage of population age 15-19 with no edu...</td>\n",
       "      <td>Percentage of population age 15-19 with no edu...</td>\n",
       "      <td>NaN</td>\n",
       "      <td>NaN</td>\n",
       "      <td>NaN</td>\n",
       "      <td>NaN</td>\n",
       "      <td>NaN</td>\n",
       "      <td>...</td>\n",
       "      <td>NaN</td>\n",
       "      <td>NaN</td>\n",
       "      <td>Robert J. Barro and Jong-Wha Lee: http://www.b...</td>\n",
       "      <td>NaN</td>\n",
       "      <td>NaN</td>\n",
       "      <td>NaN</td>\n",
       "      <td>NaN</td>\n",
       "      <td>NaN</td>\n",
       "      <td>NaN</td>\n",
       "      <td>NaN</td>\n",
       "    </tr>\n",
       "    <tr>\n",
       "      <th>2</th>\n",
       "      <td>BAR.NOED.15UP.FE.ZS</td>\n",
       "      <td>Attainment</td>\n",
       "      <td>Barro-Lee: Percentage of female population age...</td>\n",
       "      <td>Percentage of female population age 15+ with n...</td>\n",
       "      <td>Percentage of female population age 15+ with n...</td>\n",
       "      <td>NaN</td>\n",
       "      <td>NaN</td>\n",
       "      <td>NaN</td>\n",
       "      <td>NaN</td>\n",
       "      <td>NaN</td>\n",
       "      <td>...</td>\n",
       "      <td>NaN</td>\n",
       "      <td>NaN</td>\n",
       "      <td>Robert J. Barro and Jong-Wha Lee: http://www.b...</td>\n",
       "      <td>NaN</td>\n",
       "      <td>NaN</td>\n",
       "      <td>NaN</td>\n",
       "      <td>NaN</td>\n",
       "      <td>NaN</td>\n",
       "      <td>NaN</td>\n",
       "      <td>NaN</td>\n",
       "    </tr>\n",
       "    <tr>\n",
       "      <th>3</th>\n",
       "      <td>BAR.NOED.15UP.ZS</td>\n",
       "      <td>Attainment</td>\n",
       "      <td>Barro-Lee: Percentage of population age 15+ wi...</td>\n",
       "      <td>Percentage of population age 15+ with no educa...</td>\n",
       "      <td>Percentage of population age 15+ with no educa...</td>\n",
       "      <td>NaN</td>\n",
       "      <td>NaN</td>\n",
       "      <td>NaN</td>\n",
       "      <td>NaN</td>\n",
       "      <td>NaN</td>\n",
       "      <td>...</td>\n",
       "      <td>NaN</td>\n",
       "      <td>NaN</td>\n",
       "      <td>Robert J. Barro and Jong-Wha Lee: http://www.b...</td>\n",
       "      <td>NaN</td>\n",
       "      <td>NaN</td>\n",
       "      <td>NaN</td>\n",
       "      <td>NaN</td>\n",
       "      <td>NaN</td>\n",
       "      <td>NaN</td>\n",
       "      <td>NaN</td>\n",
       "    </tr>\n",
       "    <tr>\n",
       "      <th>4</th>\n",
       "      <td>BAR.NOED.2024.FE.ZS</td>\n",
       "      <td>Attainment</td>\n",
       "      <td>Barro-Lee: Percentage of female population age...</td>\n",
       "      <td>Percentage of female population age 20-24 with...</td>\n",
       "      <td>Percentage of female population age 20-24 with...</td>\n",
       "      <td>NaN</td>\n",
       "      <td>NaN</td>\n",
       "      <td>NaN</td>\n",
       "      <td>NaN</td>\n",
       "      <td>NaN</td>\n",
       "      <td>...</td>\n",
       "      <td>NaN</td>\n",
       "      <td>NaN</td>\n",
       "      <td>Robert J. Barro and Jong-Wha Lee: http://www.b...</td>\n",
       "      <td>NaN</td>\n",
       "      <td>NaN</td>\n",
       "      <td>NaN</td>\n",
       "      <td>NaN</td>\n",
       "      <td>NaN</td>\n",
       "      <td>NaN</td>\n",
       "      <td>NaN</td>\n",
       "    </tr>\n",
       "  </tbody>\n",
       "</table>\n",
       "<p>5 rows × 21 columns</p>\n",
       "</div>"
      ],
      "text/plain": [
       "           Series Code       Topic  \\\n",
       "0  BAR.NOED.1519.FE.ZS  Attainment   \n",
       "1     BAR.NOED.1519.ZS  Attainment   \n",
       "2  BAR.NOED.15UP.FE.ZS  Attainment   \n",
       "3     BAR.NOED.15UP.ZS  Attainment   \n",
       "4  BAR.NOED.2024.FE.ZS  Attainment   \n",
       "\n",
       "                                      Indicator Name  \\\n",
       "0  Barro-Lee: Percentage of female population age...   \n",
       "1  Barro-Lee: Percentage of population age 15-19 ...   \n",
       "2  Barro-Lee: Percentage of female population age...   \n",
       "3  Barro-Lee: Percentage of population age 15+ wi...   \n",
       "4  Barro-Lee: Percentage of female population age...   \n",
       "\n",
       "                                    Short definition  \\\n",
       "0  Percentage of female population age 15-19 with...   \n",
       "1  Percentage of population age 15-19 with no edu...   \n",
       "2  Percentage of female population age 15+ with n...   \n",
       "3  Percentage of population age 15+ with no educa...   \n",
       "4  Percentage of female population age 20-24 with...   \n",
       "\n",
       "                                     Long definition  Unit of measure  \\\n",
       "0  Percentage of female population age 15-19 with...              NaN   \n",
       "1  Percentage of population age 15-19 with no edu...              NaN   \n",
       "2  Percentage of female population age 15+ with n...              NaN   \n",
       "3  Percentage of population age 15+ with no educa...              NaN   \n",
       "4  Percentage of female population age 20-24 with...              NaN   \n",
       "\n",
       "  Periodicity Base Period Other notes Aggregation method  ...  \\\n",
       "0         NaN         NaN         NaN                NaN  ...   \n",
       "1         NaN         NaN         NaN                NaN  ...   \n",
       "2         NaN         NaN         NaN                NaN  ...   \n",
       "3         NaN         NaN         NaN                NaN  ...   \n",
       "4         NaN         NaN         NaN                NaN  ...   \n",
       "\n",
       "  Notes from original source  General comments  \\\n",
       "0                        NaN               NaN   \n",
       "1                        NaN               NaN   \n",
       "2                        NaN               NaN   \n",
       "3                        NaN               NaN   \n",
       "4                        NaN               NaN   \n",
       "\n",
       "                                              Source  \\\n",
       "0  Robert J. Barro and Jong-Wha Lee: http://www.b...   \n",
       "1  Robert J. Barro and Jong-Wha Lee: http://www.b...   \n",
       "2  Robert J. Barro and Jong-Wha Lee: http://www.b...   \n",
       "3  Robert J. Barro and Jong-Wha Lee: http://www.b...   \n",
       "4  Robert J. Barro and Jong-Wha Lee: http://www.b...   \n",
       "\n",
       "  Statistical concept and methodology Development relevance  \\\n",
       "0                                 NaN                   NaN   \n",
       "1                                 NaN                   NaN   \n",
       "2                                 NaN                   NaN   \n",
       "3                                 NaN                   NaN   \n",
       "4                                 NaN                   NaN   \n",
       "\n",
       "  Related source links Other web links  Related indicators  License Type  \\\n",
       "0                  NaN             NaN                 NaN           NaN   \n",
       "1                  NaN             NaN                 NaN           NaN   \n",
       "2                  NaN             NaN                 NaN           NaN   \n",
       "3                  NaN             NaN                 NaN           NaN   \n",
       "4                  NaN             NaN                 NaN           NaN   \n",
       "\n",
       "   Unnamed: 20  \n",
       "0          NaN  \n",
       "1          NaN  \n",
       "2          NaN  \n",
       "3          NaN  \n",
       "4          NaN  \n",
       "\n",
       "[5 rows x 21 columns]"
      ]
     },
     "execution_count": 23,
     "metadata": {},
     "output_type": "execute_result"
    }
   ],
   "source": [
    "Stats_Series.head()"
   ]
  },
  {
   "cell_type": "markdown",
   "id": "b3fdad87",
   "metadata": {},
   "source": [
    "## Strategie d'analyse\n",
    "\n",
    "Il nous semble pertinent pour l'analyse de ne considérer que les pays dont les données de recensement sont assez récentes. Pour se faire, nous analyserons que les pays dont la dernière année de recensement est supérieure ou égale à 2010."
   ]
  },
  {
   "cell_type": "code",
   "execution_count": 24,
   "id": "f1e3a800",
   "metadata": {},
   "outputs": [],
   "source": [
    "# Définissons un jeu de donnée dont les pays ont une année de recensement recente\n",
    "ed_stats_countryRecensement = Stats_Country[Stats_Country[\"Latest population census\"]>='2010']"
   ]
  },
  {
   "cell_type": "markdown",
   "id": "210ab325",
   "metadata": {},
   "source": [
    "Affichons la liste des pays répondant à notre critère de sélection. "
   ]
  },
  {
   "cell_type": "code",
   "execution_count": 25,
   "id": "e3ec63e4",
   "metadata": {},
   "outputs": [
    {
     "data": {
      "text/html": [
       "<div>\n",
       "<style scoped>\n",
       "    .dataframe tbody tr th:only-of-type {\n",
       "        vertical-align: middle;\n",
       "    }\n",
       "\n",
       "    .dataframe tbody tr th {\n",
       "        vertical-align: top;\n",
       "    }\n",
       "\n",
       "    .dataframe thead th {\n",
       "        text-align: right;\n",
       "    }\n",
       "</style>\n",
       "<table border=\"1\" class=\"dataframe\">\n",
       "  <thead>\n",
       "    <tr style=\"text-align: right;\">\n",
       "      <th></th>\n",
       "      <th>Short Name</th>\n",
       "    </tr>\n",
       "  </thead>\n",
       "  <tbody>\n",
       "    <tr>\n",
       "      <th>0</th>\n",
       "      <td>Aruba</td>\n",
       "    </tr>\n",
       "    <tr>\n",
       "      <th>3</th>\n",
       "      <td>Albania</td>\n",
       "    </tr>\n",
       "    <tr>\n",
       "      <th>4</th>\n",
       "      <td>Andorra</td>\n",
       "    </tr>\n",
       "    <tr>\n",
       "      <th>6</th>\n",
       "      <td>United Arab Emirates</td>\n",
       "    </tr>\n",
       "    <tr>\n",
       "      <th>7</th>\n",
       "      <td>Argentina</td>\n",
       "    </tr>\n",
       "    <tr>\n",
       "      <th>...</th>\n",
       "      <td>...</td>\n",
       "    </tr>\n",
       "    <tr>\n",
       "      <th>235</th>\n",
       "      <td>Samoa</td>\n",
       "    </tr>\n",
       "    <tr>\n",
       "      <th>236</th>\n",
       "      <td>Kosovo</td>\n",
       "    </tr>\n",
       "    <tr>\n",
       "      <th>238</th>\n",
       "      <td>South Africa</td>\n",
       "    </tr>\n",
       "    <tr>\n",
       "      <th>239</th>\n",
       "      <td>Zambia</td>\n",
       "    </tr>\n",
       "    <tr>\n",
       "      <th>240</th>\n",
       "      <td>Zimbabwe</td>\n",
       "    </tr>\n",
       "  </tbody>\n",
       "</table>\n",
       "<p>139 rows × 1 columns</p>\n",
       "</div>"
      ],
      "text/plain": [
       "               Short Name\n",
       "0                   Aruba\n",
       "3                 Albania\n",
       "4                 Andorra\n",
       "6    United Arab Emirates\n",
       "7               Argentina\n",
       "..                    ...\n",
       "235                 Samoa\n",
       "236                Kosovo\n",
       "238          South Africa\n",
       "239                Zambia\n",
       "240              Zimbabwe\n",
       "\n",
       "[139 rows x 1 columns]"
      ]
     },
     "execution_count": 25,
     "metadata": {},
     "output_type": "execute_result"
    }
   ],
   "source": [
    "ed_stats_countryRecensement[['Short Name']]"
   ]
  },
  {
   "cell_type": "markdown",
   "id": "c5e334e2",
   "metadata": {},
   "source": [
    "Et leur nombre est de:"
   ]
  },
  {
   "cell_type": "code",
   "execution_count": 26,
   "id": "d6cb16de",
   "metadata": {},
   "outputs": [
    {
     "data": {
      "text/plain": [
       "139"
      ]
     },
     "execution_count": 26,
     "metadata": {},
     "output_type": "execute_result"
    }
   ],
   "source": [
    "ed_stats_countryRecensement.shape[0]"
   ]
  },
  {
   "cell_type": "markdown",
   "id": "654a27c1",
   "metadata": {},
   "source": [
    "Définissons un nouveau jeu de donnée en faisant une jointure entre les pays à peine définis et le jeu de donnée 'Stats_Data' lié aux indicateurs."
   ]
  },
  {
   "cell_type": "code",
   "execution_count": 27,
   "id": "0a6b86c1",
   "metadata": {},
   "outputs": [],
   "source": [
    "data_2010=pd.merge(ed_stats_countryRecensement,Stats_Data)"
   ]
  },
  {
   "cell_type": "markdown",
   "id": "8efca392",
   "metadata": {},
   "source": [
    "Faisons une analyse de notre nouveau jeu de donnée:"
   ]
  },
  {
   "cell_type": "code",
   "execution_count": 28,
   "id": "9cd7df79",
   "metadata": {},
   "outputs": [
    {
     "data": {
      "text/plain": [
       "['La taille du jeu de donnée est :',\n",
       " (509435, 101),\n",
       " ' ',\n",
       " 'Les types variables du jeu donnée sont:',\n",
       " Country Code     object\n",
       " Short Name       object\n",
       " Table Name       object\n",
       " Long Name        object\n",
       " 2-alpha code     object\n",
       "                  ...   \n",
       " 2085            float64\n",
       " 2090            float64\n",
       " 2095            float64\n",
       " 2100            float64\n",
       " Unnamed: 69     float64\n",
       " Length: 101, dtype: object,\n",
       " ' ',\n",
       " 'Les données statistiques du jeu de donnée sont:',\n",
       "        National accounts reference year  Latest industrial data  \\\n",
       " count                      84295.000000           278540.000000   \n",
       " mean                        2002.652174             2008.250000   \n",
       " std                            5.321103                2.306317   \n",
       " min                         1987.000000             2001.000000   \n",
       " 25%                         2000.000000             2008.000000   \n",
       " 50%                         2005.000000             2009.000000   \n",
       " 75%                         2005.000000             2010.000000   \n",
       " max                         2012.000000             2010.000000   \n",
       " \n",
       "        Latest trade data  Unnamed: 31          1970          1971  \\\n",
       " count      450795.000000          0.0  4.580900e+04  1.981300e+04   \n",
       " mean         2011.252033          NaN  4.512271e+08  1.104188e+09   \n",
       " std             2.002413          NaN  2.755961e+10  4.355190e+10   \n",
       " min          2000.000000          NaN -1.435564e+00 -8.726840e-01   \n",
       " 25%          2012.000000          NaN  1.120000e+00  7.810920e+00   \n",
       " 50%          2012.000000          NaN  6.430000e+00  6.500000e+01   \n",
       " 75%          2012.000000          NaN  5.100000e+01  3.091400e+04   \n",
       " max          2012.000000          NaN  4.779684e+12  4.937198e+12   \n",
       " \n",
       "                1972          1973          1974          1975  ...  \\\n",
       " count  1.974800e+04  1.945000e+04  2.017400e+04  5.560300e+04  ...   \n",
       " mean   1.198865e+09  1.348065e+09  1.374481e+09  5.197652e+08  ...   \n",
       " std    4.627736e+10  4.983016e+10  4.938116e+10  3.016021e+10  ...   \n",
       " min   -7.326007e-01 -8.057713e-01 -1.084226e+00 -1.093213e+00  ...   \n",
       " 25%    8.186065e+00  8.426962e+00  8.573180e+00  1.790000e+00  ...   \n",
       " 50%    6.765796e+01  7.500513e+01  7.090641e+01  9.200000e+00  ...   \n",
       " 75%    3.140425e+04  3.545975e+04  3.367375e+04  6.582000e+01  ...   \n",
       " max    5.197055e+12  5.490332e+12  5.461938e+12  5.451141e+12  ...   \n",
       " \n",
       "                 2060           2065           2070           2075  \\\n",
       " count   32032.000000   32032.000000   32032.000000   32032.000000   \n",
       " mean      403.546373     401.289904     397.499563     392.408982   \n",
       " std      7029.336467    7116.455358    7186.468849    7233.616237   \n",
       " min        -1.630000      -1.440000      -1.260000      -1.090000   \n",
       " 25%         0.020000       0.010000       0.010000       0.010000   \n",
       " 50%         0.230000       0.230000       0.230000       0.220000   \n",
       " 75%         5.307500       4.950000       4.400000       3.892500   \n",
       " max    644710.190000  675853.420000  700282.960000  717143.500000   \n",
       " \n",
       "                 2080           2085           2090           2095  \\\n",
       " count   32032.000000   32032.000000   32032.000000   32032.000000   \n",
       " mean      386.467657     380.024905     373.153687     365.759424   \n",
       " std      7258.240435    7264.738207    7251.066266    7211.762852   \n",
       " min        -0.920000      -0.780000      -0.650000      -0.550000   \n",
       " 25%         0.010000       0.000000       0.000000       0.000000   \n",
       " 50%         0.220000       0.220000       0.210000       0.210000   \n",
       " 75%         3.450000       3.110000       2.910000       2.800000   \n",
       " max    727030.140000  731025.850000  728631.120000  719255.750000   \n",
       " \n",
       "                 2100  Unnamed: 69  \n",
       " count   32032.000000          0.0  \n",
       " mean      357.832639          NaN  \n",
       " std      7147.686709          NaN  \n",
       " min        -0.450000          NaN  \n",
       " 25%         0.000000          NaN  \n",
       " 50%         0.210000          NaN  \n",
       " 75%         2.700000          NaN  \n",
       " max    703700.820000          NaN  \n",
       " \n",
       " [8 rows x 70 columns]]"
      ]
     },
     "execution_count": 28,
     "metadata": {},
     "output_type": "execute_result"
    }
   ],
   "source": [
    "analyse_jeu (data_2010)"
   ]
  },
  {
   "cell_type": "markdown",
   "id": "ed2449d0",
   "metadata": {},
   "source": [
    "## Choix des indicateurs candidats  pour l'analyse\n",
    "\n",
    "En relation avec notre problématique il nous semble pertinent de ne retenir que les indicateurs liés au facteurs suivant:\n",
    "- Démographie :Population par tranches d’âge à savoir 20-29 ans et 15-19 ans,croissance de la population\n",
    "- Niveau éducation :  Nombre et taux étudiants dans le secondaire et tertiaire ayant arretés de cursus normal d'éducation\n",
    "- Déploiement internet : Taux utilisation d'internet\n",
    "- Economique : PIB, PIB / habitant"
   ]
  },
  {
   "cell_type": "code",
   "execution_count": 29,
   "id": "3b6266e9",
   "metadata": {},
   "outputs": [],
   "source": [
    "indicateurs_candidats =data_2010['Indicator Name'].str.contains('GDP per capita|Internet users|Personal computers|population growth|Share of youth not in education, employment, or training, total|Percentage of population age 15-19 with no education|Percentage of population age 20-24 with no edu|Average years of total schooling, age 20-24, total|Average years of total schooling, age 15-19, total', case=False,na=False)"
   ]
  },
  {
   "cell_type": "markdown",
   "id": "ef66639b",
   "metadata": {},
   "source": [
    "Définissons un dataframe des indicateurs candidats."
   ]
  },
  {
   "cell_type": "code",
   "execution_count": 30,
   "id": "a709d2b1",
   "metadata": {},
   "outputs": [],
   "source": [
    "data_2010_critere=data_2010[indicateurs_candidats][['Indicator Code','Indicator Name',\n",
    "                '2010', '2011', '2012', '2013', '2014','2015', '2016', '2017', '2020']]"
   ]
  },
  {
   "cell_type": "markdown",
   "id": "726d70e8",
   "metadata": {},
   "source": [
    "vérifions l'existence de doublons."
   ]
  },
  {
   "cell_type": "code",
   "execution_count": 31,
   "id": "354d159f",
   "metadata": {},
   "outputs": [
    {
     "data": {
      "text/plain": [
       "831"
      ]
     },
     "execution_count": 31,
     "metadata": {},
     "output_type": "execute_result"
    }
   ],
   "source": [
    "data_2010_critere.duplicated().sum()"
   ]
  },
  {
   "cell_type": "markdown",
   "id": "2d331c6a",
   "metadata": {},
   "source": [
    "Eliminons les doublons."
   ]
  },
  {
   "cell_type": "code",
   "execution_count": 32,
   "id": "288aaa92",
   "metadata": {},
   "outputs": [],
   "source": [
    "# on compte le nombre de valeurs manquantes pour la ligne et on stocke dans une nouvelle colonne\n",
    "data_2010_critere['NB_NAN'] =data_2010_critere.isna().sum(axis=1)\n",
    "# trie des lignes en fonction du nombre de valeurs manquantes\n",
    "data_2010_critere = data_2010_critere.sort_values('NB_NAN')\n",
    "# suppression des duplicatas en gardant les versions les mieux remplies\n",
    "data_2010_critere = data_2010_critere.drop_duplicates('Indicator Code', keep='first')\n",
    "# on supprime la colonne qui n'est plus utile\n",
    "data_2010_critere = data_2010_critere.drop('NB_NAN', axis=1)"
   ]
  },
  {
   "cell_type": "markdown",
   "id": "a8a2b309",
   "metadata": {},
   "source": [
    "La liste des indicateurs candidats est:"
   ]
  },
  {
   "cell_type": "code",
   "execution_count": 33,
   "id": "4eb0931e",
   "metadata": {},
   "outputs": [
    {
     "data": {
      "text/html": [
       "<div>\n",
       "<style scoped>\n",
       "    .dataframe tbody tr th:only-of-type {\n",
       "        vertical-align: middle;\n",
       "    }\n",
       "\n",
       "    .dataframe tbody tr th {\n",
       "        vertical-align: top;\n",
       "    }\n",
       "\n",
       "    .dataframe thead th {\n",
       "        text-align: right;\n",
       "    }\n",
       "</style>\n",
       "<table border=\"1\" class=\"dataframe\">\n",
       "  <thead>\n",
       "    <tr style=\"text-align: right;\">\n",
       "      <th></th>\n",
       "      <th>Indicator Code</th>\n",
       "      <th>Indicator Name</th>\n",
       "    </tr>\n",
       "  </thead>\n",
       "  <tbody>\n",
       "    <tr>\n",
       "      <th>393401</th>\n",
       "      <td>NY.GDP.PCAP.PP.KD</td>\n",
       "      <td>GDP per capita, PPP (constant 2011 internation...</td>\n",
       "    </tr>\n",
       "    <tr>\n",
       "      <th>126917</th>\n",
       "      <td>SP.POP.GROW</td>\n",
       "      <td>Population growth (annual %)</td>\n",
       "    </tr>\n",
       "    <tr>\n",
       "      <th>433845</th>\n",
       "      <td>IT.NET.USER.P2</td>\n",
       "      <td>Internet users (per 100 people)</td>\n",
       "    </tr>\n",
       "    <tr>\n",
       "      <th>129519</th>\n",
       "      <td>NY.GDP.PCAP.KD</td>\n",
       "      <td>GDP per capita (constant 2005 US$)</td>\n",
       "    </tr>\n",
       "    <tr>\n",
       "      <th>129520</th>\n",
       "      <td>NY.GDP.PCAP.CD</td>\n",
       "      <td>GDP per capita (current US$)</td>\n",
       "    </tr>\n",
       "    <tr>\n",
       "      <th>129522</th>\n",
       "      <td>NY.GDP.PCAP.PP.CD</td>\n",
       "      <td>GDP per capita, PPP (current international $)</td>\n",
       "    </tr>\n",
       "    <tr>\n",
       "      <th>265161</th>\n",
       "      <td>SE.XPD.PRIM.PC.ZS</td>\n",
       "      <td>Government expenditure per primary student as ...</td>\n",
       "    </tr>\n",
       "    <tr>\n",
       "      <th>272501</th>\n",
       "      <td>SE.XPD.TERT.PC.ZS</td>\n",
       "      <td>Government expenditure per tertiary student as...</td>\n",
       "    </tr>\n",
       "    <tr>\n",
       "      <th>320141</th>\n",
       "      <td>SE.XPD.SECO.PC.ZS</td>\n",
       "      <td>Government expenditure per secondary student a...</td>\n",
       "    </tr>\n",
       "    <tr>\n",
       "      <th>217531</th>\n",
       "      <td>UIS.XUNIT.GDPCAP.3.FSGOV</td>\n",
       "      <td>Government expenditure per upper secondary stu...</td>\n",
       "    </tr>\n",
       "    <tr>\n",
       "      <th>217506</th>\n",
       "      <td>UIS.XUNIT.GDPCAP.2.FSGOV</td>\n",
       "      <td>Government expenditure per lower secondary stu...</td>\n",
       "    </tr>\n",
       "    <tr>\n",
       "      <th>499716</th>\n",
       "      <td>UIS.XUNIT.GDPCAP.4.FSGOV</td>\n",
       "      <td>Government expenditure per post-secondary non-...</td>\n",
       "    </tr>\n",
       "    <tr>\n",
       "      <th>241170</th>\n",
       "      <td>SL.UEM.NEET.ZS</td>\n",
       "      <td>Share of youth not in education, employment, o...</td>\n",
       "    </tr>\n",
       "    <tr>\n",
       "      <th>319236</th>\n",
       "      <td>BAR.NOED.1519.ZS</td>\n",
       "      <td>Barro-Lee: Percentage of population age 15-19 ...</td>\n",
       "    </tr>\n",
       "    <tr>\n",
       "      <th>377883</th>\n",
       "      <td>BAR.NOED.2024.ZS</td>\n",
       "      <td>Barro-Lee: Percentage of population age 20-24 ...</td>\n",
       "    </tr>\n",
       "    <tr>\n",
       "      <th>326427</th>\n",
       "      <td>BAR.SCHL.1519</td>\n",
       "      <td>Barro-Lee: Average years of total schooling, a...</td>\n",
       "    </tr>\n",
       "    <tr>\n",
       "      <th>396064</th>\n",
       "      <td>BAR.SCHL.2024</td>\n",
       "      <td>Barro-Lee: Average years of total schooling, a...</td>\n",
       "    </tr>\n",
       "    <tr>\n",
       "      <th>485864</th>\n",
       "      <td>IT.CMP.PCMP.P2</td>\n",
       "      <td>Personal computers (per 100 people)</td>\n",
       "    </tr>\n",
       "  </tbody>\n",
       "</table>\n",
       "</div>"
      ],
      "text/plain": [
       "                  Indicator Code  \\\n",
       "393401         NY.GDP.PCAP.PP.KD   \n",
       "126917               SP.POP.GROW   \n",
       "433845            IT.NET.USER.P2   \n",
       "129519            NY.GDP.PCAP.KD   \n",
       "129520            NY.GDP.PCAP.CD   \n",
       "129522         NY.GDP.PCAP.PP.CD   \n",
       "265161         SE.XPD.PRIM.PC.ZS   \n",
       "272501         SE.XPD.TERT.PC.ZS   \n",
       "320141         SE.XPD.SECO.PC.ZS   \n",
       "217531  UIS.XUNIT.GDPCAP.3.FSGOV   \n",
       "217506  UIS.XUNIT.GDPCAP.2.FSGOV   \n",
       "499716  UIS.XUNIT.GDPCAP.4.FSGOV   \n",
       "241170            SL.UEM.NEET.ZS   \n",
       "319236          BAR.NOED.1519.ZS   \n",
       "377883          BAR.NOED.2024.ZS   \n",
       "326427             BAR.SCHL.1519   \n",
       "396064             BAR.SCHL.2024   \n",
       "485864            IT.CMP.PCMP.P2   \n",
       "\n",
       "                                           Indicator Name  \n",
       "393401  GDP per capita, PPP (constant 2011 internation...  \n",
       "126917                       Population growth (annual %)  \n",
       "433845                    Internet users (per 100 people)  \n",
       "129519                 GDP per capita (constant 2005 US$)  \n",
       "129520                       GDP per capita (current US$)  \n",
       "129522      GDP per capita, PPP (current international $)  \n",
       "265161  Government expenditure per primary student as ...  \n",
       "272501  Government expenditure per tertiary student as...  \n",
       "320141  Government expenditure per secondary student a...  \n",
       "217531  Government expenditure per upper secondary stu...  \n",
       "217506  Government expenditure per lower secondary stu...  \n",
       "499716  Government expenditure per post-secondary non-...  \n",
       "241170  Share of youth not in education, employment, o...  \n",
       "319236  Barro-Lee: Percentage of population age 15-19 ...  \n",
       "377883  Barro-Lee: Percentage of population age 20-24 ...  \n",
       "326427  Barro-Lee: Average years of total schooling, a...  \n",
       "396064  Barro-Lee: Average years of total schooling, a...  \n",
       "485864                Personal computers (per 100 people)  "
      ]
     },
     "execution_count": 33,
     "metadata": {},
     "output_type": "execute_result"
    }
   ],
   "source": [
    "data_2010_critere[['Indicator Code','Indicator Name']]"
   ]
  },
  {
   "cell_type": "markdown",
   "id": "ab4d2e99",
   "metadata": {},
   "source": [
    "## Calcul du taux de remplissage des indicateurs  sélectionnés"
   ]
  },
  {
   "cell_type": "markdown",
   "id": "41336b0a",
   "metadata": {},
   "source": [
    "Définissons un intervalle temporel d'analyse relatif aux pays et aux régions du monde"
   ]
  },
  {
   "cell_type": "code",
   "execution_count": 34,
   "id": "54d73d7e",
   "metadata": {},
   "outputs": [],
   "source": [
    "int_temp = ['Short Name','Indicator Code','2010', '2011', '2012', '2013', '2014','2015', '2016', '2017', '2020'] \n",
    "int_ = ['Region','Indicator Code','2010', '2011', '2012', '2013', '2014','2015', '2016', '2017', '2020'] "
   ]
  },
  {
   "cell_type": "markdown",
   "id": "6ce0e15a",
   "metadata": {},
   "source": [
    "Définissons des fonctions pour extraire un dataframe contenant uniquement notre indicateur canditat en éliminant au préable les doublons relatif au pays et aux régions du monde."
   ]
  },
  {
   "cell_type": "code",
   "execution_count": 35,
   "id": "13713356",
   "metadata": {},
   "outputs": [],
   "source": [
    "def indicateur(ind):\n",
    "    # on extrait un sous dataframe contenant uniquement l'indicateur\n",
    "    mask=data_2010['Indicator Code']==ind\n",
    "    df=pd.merge(data_2010,pd.DataFrame(data_2010.loc[mask,'Indicator Code']))[int_temp]\n",
    "    # on compte le nombre de valeurs manquantes pour la ligne et on stocke dans une nouvelle colonne\n",
    "    df['NB_NAN'] = df.isna().sum(axis=1)\n",
    "    # trie des lignes en fonction du nombre de valeurs manquantes\n",
    "    df = df.sort_values('NB_NAN')\n",
    "    # suppression des duplicatas en gardant les versions les mieux remplies\n",
    "    df = df.drop_duplicates('Short Name', keep='first')\n",
    "    # on supprime la colonne qui n'est plus utile\n",
    "    df = df.drop('NB_NAN', axis=1)\n",
    "    return df\n",
    "    "
   ]
  },
  {
   "cell_type": "code",
   "execution_count": 36,
   "id": "02501fad",
   "metadata": {},
   "outputs": [],
   "source": [
    "def indicateur_region(ind):\n",
    "    # on extrait un sous dataframe contenant uniquement l'indicateur\n",
    "    mask=data_2010['Indicator Code']==ind\n",
    "    df=pd.merge(data_2010,pd.DataFrame(data_2010.loc[mask,'Indicator Code']))[int_]\n",
    "    # on compte le nombre de valeurs manquantes pour la ligne et on stocke dans une nouvelle colonne\n",
    "    df['NB_NAN'] = df.isna().sum(axis=1)\n",
    "    # trie des lignes en fonction du nombre de valeurs manquantes\n",
    "    df = df.sort_values('NB_NAN')\n",
    "    # suppression des duplicatas en gardant les versions les mieux remplies\n",
    "    df = df.drop_duplicates('Region', keep='first')\n",
    "    # on supprime la colonne qui n'est plus utile\n",
    "    df = df.drop('NB_NAN', axis=1)\n",
    "    return df\n",
    "    "
   ]
  },
  {
   "cell_type": "markdown",
   "id": "e1fd1986",
   "metadata": {},
   "source": [
    "Définissons une fonction pour calculer le taux de remplissage:"
   ]
  },
  {
   "cell_type": "code",
   "execution_count": 37,
   "id": "de465e79",
   "metadata": {},
   "outputs": [],
   "source": [
    "def taux_remplissage(df):\n",
    "    n=df.shape[0]\n",
    "    ret=pd.DataFrame(df.isna().sum(),columns=['nb_manquantes'])\n",
    "    ret['taux']=100-(ret['nb_manquantes']/n)*100\n",
    "    return ret['taux'][2:].mean()\n",
    "    "
   ]
  },
  {
   "cell_type": "markdown",
   "id": "78d334f5",
   "metadata": {},
   "source": [
    "#### Calculons le taux de remplissage des indicateurs candidats."
   ]
  },
  {
   "cell_type": "code",
   "execution_count": 38,
   "id": "f728ae2b",
   "metadata": {},
   "outputs": [],
   "source": [
    "taux=[]\n",
    "for ind in data_2010_critere['Indicator Code']:\n",
    "    df=indicateur(ind)\n",
    "    taux.append(taux_remplissage(df))\n",
    "data_2010_critere['Taux Remplissage']=taux\n"
   ]
  },
  {
   "cell_type": "code",
   "execution_count": 39,
   "id": "0e587e14",
   "metadata": {},
   "outputs": [
    {
     "data": {
      "text/html": [
       "<div>\n",
       "<style scoped>\n",
       "    .dataframe tbody tr th:only-of-type {\n",
       "        vertical-align: middle;\n",
       "    }\n",
       "\n",
       "    .dataframe tbody tr th {\n",
       "        vertical-align: top;\n",
       "    }\n",
       "\n",
       "    .dataframe thead th {\n",
       "        text-align: right;\n",
       "    }\n",
       "</style>\n",
       "<table border=\"1\" class=\"dataframe\">\n",
       "  <thead>\n",
       "    <tr style=\"text-align: right;\">\n",
       "      <th></th>\n",
       "      <th>Indicator Code</th>\n",
       "      <th>Taux Remplissage</th>\n",
       "    </tr>\n",
       "  </thead>\n",
       "  <tbody>\n",
       "    <tr>\n",
       "      <th>393401</th>\n",
       "      <td>NY.GDP.PCAP.PP.KD</td>\n",
       "      <td>68.185452</td>\n",
       "    </tr>\n",
       "    <tr>\n",
       "      <th>126917</th>\n",
       "      <td>SP.POP.GROW</td>\n",
       "      <td>77.458034</td>\n",
       "    </tr>\n",
       "    <tr>\n",
       "      <th>433845</th>\n",
       "      <td>IT.NET.USER.P2</td>\n",
       "      <td>72.581934</td>\n",
       "    </tr>\n",
       "    <tr>\n",
       "      <th>129519</th>\n",
       "      <td>NY.GDP.PCAP.KD</td>\n",
       "      <td>72.422062</td>\n",
       "    </tr>\n",
       "    <tr>\n",
       "      <th>129520</th>\n",
       "      <td>NY.GDP.PCAP.CD</td>\n",
       "      <td>73.461231</td>\n",
       "    </tr>\n",
       "    <tr>\n",
       "      <th>129522</th>\n",
       "      <td>NY.GDP.PCAP.PP.CD</td>\n",
       "      <td>68.185452</td>\n",
       "    </tr>\n",
       "    <tr>\n",
       "      <th>265161</th>\n",
       "      <td>SE.XPD.PRIM.PC.ZS</td>\n",
       "      <td>29.736211</td>\n",
       "    </tr>\n",
       "    <tr>\n",
       "      <th>272501</th>\n",
       "      <td>SE.XPD.TERT.PC.ZS</td>\n",
       "      <td>26.698641</td>\n",
       "    </tr>\n",
       "    <tr>\n",
       "      <th>320141</th>\n",
       "      <td>SE.XPD.SECO.PC.ZS</td>\n",
       "      <td>27.657874</td>\n",
       "    </tr>\n",
       "    <tr>\n",
       "      <th>217531</th>\n",
       "      <td>UIS.XUNIT.GDPCAP.3.FSGOV</td>\n",
       "      <td>17.026379</td>\n",
       "    </tr>\n",
       "    <tr>\n",
       "      <th>217506</th>\n",
       "      <td>UIS.XUNIT.GDPCAP.2.FSGOV</td>\n",
       "      <td>17.186251</td>\n",
       "    </tr>\n",
       "    <tr>\n",
       "      <th>499716</th>\n",
       "      <td>UIS.XUNIT.GDPCAP.4.FSGOV</td>\n",
       "      <td>8.073541</td>\n",
       "    </tr>\n",
       "    <tr>\n",
       "      <th>241170</th>\n",
       "      <td>SL.UEM.NEET.ZS</td>\n",
       "      <td>8.393285</td>\n",
       "    </tr>\n",
       "    <tr>\n",
       "      <th>319236</th>\n",
       "      <td>BAR.NOED.1519.ZS</td>\n",
       "      <td>7.833733</td>\n",
       "    </tr>\n",
       "    <tr>\n",
       "      <th>377883</th>\n",
       "      <td>BAR.NOED.2024.ZS</td>\n",
       "      <td>7.833733</td>\n",
       "    </tr>\n",
       "    <tr>\n",
       "      <th>326427</th>\n",
       "      <td>BAR.SCHL.1519</td>\n",
       "      <td>7.833733</td>\n",
       "    </tr>\n",
       "    <tr>\n",
       "      <th>396064</th>\n",
       "      <td>BAR.SCHL.2024</td>\n",
       "      <td>7.833733</td>\n",
       "    </tr>\n",
       "    <tr>\n",
       "      <th>485864</th>\n",
       "      <td>IT.CMP.PCMP.P2</td>\n",
       "      <td>0.000000</td>\n",
       "    </tr>\n",
       "  </tbody>\n",
       "</table>\n",
       "</div>"
      ],
      "text/plain": [
       "                  Indicator Code  Taux Remplissage\n",
       "393401         NY.GDP.PCAP.PP.KD         68.185452\n",
       "126917               SP.POP.GROW         77.458034\n",
       "433845            IT.NET.USER.P2         72.581934\n",
       "129519            NY.GDP.PCAP.KD         72.422062\n",
       "129520            NY.GDP.PCAP.CD         73.461231\n",
       "129522         NY.GDP.PCAP.PP.CD         68.185452\n",
       "265161         SE.XPD.PRIM.PC.ZS         29.736211\n",
       "272501         SE.XPD.TERT.PC.ZS         26.698641\n",
       "320141         SE.XPD.SECO.PC.ZS         27.657874\n",
       "217531  UIS.XUNIT.GDPCAP.3.FSGOV         17.026379\n",
       "217506  UIS.XUNIT.GDPCAP.2.FSGOV         17.186251\n",
       "499716  UIS.XUNIT.GDPCAP.4.FSGOV          8.073541\n",
       "241170            SL.UEM.NEET.ZS          8.393285\n",
       "319236          BAR.NOED.1519.ZS          7.833733\n",
       "377883          BAR.NOED.2024.ZS          7.833733\n",
       "326427             BAR.SCHL.1519          7.833733\n",
       "396064             BAR.SCHL.2024          7.833733\n",
       "485864            IT.CMP.PCMP.P2          0.000000"
      ]
     },
     "execution_count": 39,
     "metadata": {},
     "output_type": "execute_result"
    }
   ],
   "source": [
    "data_2010_critere[['Indicator Code','Taux Remplissage']]"
   ]
  },
  {
   "cell_type": "markdown",
   "id": "ffcb8731",
   "metadata": {},
   "source": [
    "#### Réprésentation graphique du taux de remplissage des indicateurs candidats"
   ]
  },
  {
   "cell_type": "code",
   "execution_count": 41,
   "id": "8dee534f",
   "metadata": {},
   "outputs": [
    {
     "data": {
      "image/png": "[encoded data removed]",
      "text/plain": [
       "<Figure size 1080x576 with 1 Axes>"
      ]
     },
     "metadata": {
      "needs_background": "light"
     },
     "output_type": "display_data"
    }
   ],
   "source": [
    "plt.figure(figsize = (15,8))\n",
    "ax = sns.barplot(x = 'Indicator Code', y = 'Taux Remplissage',data = data_2010_critere)\n",
    "ax_set=ax.set_xticklabels(ax.get_xticklabels(),rotation = 30)\n"
   ]
  },
  {
   "cell_type": "markdown",
   "id": "175c3f4f",
   "metadata": {},
   "source": [
    "### Choix définitif des indicateurs\n",
    "\n",
    "le critère de choix des indicateurs sera évidemment lié à leur taux de remplissage.Il nous semble pertinent de ne retenir que les indicateurs ayant un taux de remplissage supérieur à 70%."
   ]
  },
  {
   "cell_type": "code",
   "execution_count": 42,
   "id": "81092496",
   "metadata": {},
   "outputs": [
    {
     "data": {
      "text/html": [
       "<div>\n",
       "<style scoped>\n",
       "    .dataframe tbody tr th:only-of-type {\n",
       "        vertical-align: middle;\n",
       "    }\n",
       "\n",
       "    .dataframe tbody tr th {\n",
       "        vertical-align: top;\n",
       "    }\n",
       "\n",
       "    .dataframe thead th {\n",
       "        text-align: right;\n",
       "    }\n",
       "</style>\n",
       "<table border=\"1\" class=\"dataframe\">\n",
       "  <thead>\n",
       "    <tr style=\"text-align: right;\">\n",
       "      <th></th>\n",
       "      <th>Indicator Code</th>\n",
       "      <th>Indicator Name</th>\n",
       "      <th>Taux Remplissage</th>\n",
       "    </tr>\n",
       "  </thead>\n",
       "  <tbody>\n",
       "    <tr>\n",
       "      <th>0</th>\n",
       "      <td>SP.POP.GROW</td>\n",
       "      <td>Population growth (annual %)</td>\n",
       "      <td>77.458034</td>\n",
       "    </tr>\n",
       "    <tr>\n",
       "      <th>1</th>\n",
       "      <td>IT.NET.USER.P2</td>\n",
       "      <td>Internet users (per 100 people)</td>\n",
       "      <td>72.581934</td>\n",
       "    </tr>\n",
       "    <tr>\n",
       "      <th>2</th>\n",
       "      <td>NY.GDP.PCAP.KD</td>\n",
       "      <td>GDP per capita (constant 2005 US$)</td>\n",
       "      <td>72.422062</td>\n",
       "    </tr>\n",
       "    <tr>\n",
       "      <th>3</th>\n",
       "      <td>NY.GDP.PCAP.CD</td>\n",
       "      <td>GDP per capita (current US$)</td>\n",
       "      <td>73.461231</td>\n",
       "    </tr>\n",
       "  </tbody>\n",
       "</table>\n",
       "</div>"
      ],
      "text/plain": [
       "   Indicator Code                      Indicator Name  Taux Remplissage\n",
       "0     SP.POP.GROW        Population growth (annual %)         77.458034\n",
       "1  IT.NET.USER.P2     Internet users (per 100 people)         72.581934\n",
       "2  NY.GDP.PCAP.KD  GDP per capita (constant 2005 US$)         72.422062\n",
       "3  NY.GDP.PCAP.CD        GDP per capita (current US$)         73.461231"
      ]
     },
     "execution_count": 42,
     "metadata": {},
     "output_type": "execute_result"
    }
   ],
   "source": [
    "indicateurs_definitifs=data_2010_critere[data_2010_critere[\"Taux Remplissage\"]>=70]['Indicator Code']\n",
    "indicateurs_definitifs=pd.merge(data_2010_critere,indicateurs_definitifs)\n",
    "indicateurs_definitifs[['Indicator Code','Indicator Name','Taux Remplissage']]"
   ]
  },
  {
   "cell_type": "markdown",
   "id": "1c0f91a8",
   "metadata": {},
   "source": [
    "Les indicateurs 'GDP per capita (constant 2005 US$)' et  'GDP per capita (current US)'\t etant du même type nous décidons de retenir celui qui a le taux de remplissage le plus élevé.il en resort donc le choix de l'indicateur 'GDP per capita (current US))'."
   ]
  },
  {
   "cell_type": "markdown",
   "id": "b88b9dca",
   "metadata": {},
   "source": [
    "## Analyse des indicateurs définitifs choisis"
   ]
  },
  {
   "cell_type": "markdown",
   "id": "28e7139b",
   "metadata": {},
   "source": [
    "Définissons notre intervalle temporel d'analyse:"
   ]
  },
  {
   "cell_type": "code",
   "execution_count": 43,
   "id": "5fc2220b",
   "metadata": {},
   "outputs": [],
   "source": [
    "years = ['2010', '2011', '2012', '2013', '2014','2015', '2016', '2017', '2020'] "
   ]
  },
  {
   "cell_type": "markdown",
   "id": "93fecd82",
   "metadata": {},
   "source": [
    "### Indicateur 'Population growth (annual %)"
   ]
  },
  {
   "cell_type": "markdown",
   "id": "2fd1c7be",
   "metadata": {},
   "source": [
    "Définissons un dataframe contenant uniquement cet indicateur relatif au pays"
   ]
  },
  {
   "cell_type": "code",
   "execution_count": 44,
   "id": "afeb41da",
   "metadata": {},
   "outputs": [],
   "source": [
    "pop_growth=indicateur ('SP.POP.GROW')"
   ]
  },
  {
   "cell_type": "markdown",
   "id": "b859b123",
   "metadata": {},
   "source": [
    "Affichons le nombre de valeurs manquantes:"
   ]
  },
  {
   "cell_type": "code",
   "execution_count": 45,
   "id": "96000f8d",
   "metadata": {},
   "outputs": [
    {
     "data": {
      "text/plain": [
       "Short Name          0\n",
       "Indicator Code      0\n",
       "2010                0\n",
       "2011                1\n",
       "2012                0\n",
       "2013                0\n",
       "2014                1\n",
       "2015                1\n",
       "2016                1\n",
       "2017              139\n",
       "2020              139\n",
       "dtype: int64"
      ]
     },
     "execution_count": 45,
     "metadata": {},
     "output_type": "execute_result"
    }
   ],
   "source": [
    "pop_growth.isna().sum()"
   ]
  },
  {
   "cell_type": "markdown",
   "id": "3585a951",
   "metadata": {},
   "source": [
    "Eliminons les colonnes n'ayant que les valeurs manquantes."
   ]
  },
  {
   "cell_type": "code",
   "execution_count": 46,
   "id": "84cc79f2",
   "metadata": {},
   "outputs": [],
   "source": [
    "pop_growth=pop_growth.drop(columns=['2017', '2020'])"
   ]
  },
  {
   "cell_type": "markdown",
   "id": "d40c1c5b",
   "metadata": {},
   "source": [
    "Nous décidons de remplacer les valeurs manquantes d'une variable par sa valeur médiane."
   ]
  },
  {
   "cell_type": "code",
   "execution_count": 47,
   "id": "5c3e53f8",
   "metadata": {},
   "outputs": [],
   "source": [
    "years_=['2010', '2011', '2012', '2013', '2014','2015', '2016']\n",
    "for i in years_:\n",
    "    pop_growth.loc[pop_growth[i].isna(),i] = pop_growth[i].median()"
   ]
  },
  {
   "cell_type": "markdown",
   "id": "e6edd647",
   "metadata": {},
   "source": [
    "#### Création des scores \n",
    "\n",
    "Nous allons  créer un score entre 0 et 1 pour noter des pays ou régions du monde figurant parmi les meilleurs relatif à l'indicateur"
   ]
  },
  {
   "cell_type": "markdown",
   "id": "cb34c9a8",
   "metadata": {},
   "source": [
    "Créons une colonne Score_Synt_P contenant la moyenne des notes des années de notre intervalle temporel relatif à chaque pays."
   ]
  },
  {
   "cell_type": "code",
   "execution_count": 48,
   "id": "ddfef868",
   "metadata": {},
   "outputs": [
    {
     "data": {
      "text/html": [
       "<div>\n",
       "<style scoped>\n",
       "    .dataframe tbody tr th:only-of-type {\n",
       "        vertical-align: middle;\n",
       "    }\n",
       "\n",
       "    .dataframe tbody tr th {\n",
       "        vertical-align: top;\n",
       "    }\n",
       "\n",
       "    .dataframe thead th {\n",
       "        text-align: right;\n",
       "    }\n",
       "</style>\n",
       "<table border=\"1\" class=\"dataframe\">\n",
       "  <thead>\n",
       "    <tr style=\"text-align: right;\">\n",
       "      <th></th>\n",
       "      <th>Short Name</th>\n",
       "      <th>Indicator Code</th>\n",
       "      <th>Score_Synt_P</th>\n",
       "    </tr>\n",
       "  </thead>\n",
       "  <tbody>\n",
       "    <tr>\n",
       "      <th>14364</th>\n",
       "      <td>Qatar</td>\n",
       "      <td>SP.POP.GROW</td>\n",
       "      <td>0.883865</td>\n",
       "    </tr>\n",
       "    <tr>\n",
       "      <th>13090</th>\n",
       "      <td>Oman</td>\n",
       "      <td>SP.POP.GROW</td>\n",
       "      <td>0.860948</td>\n",
       "    </tr>\n",
       "    <tr>\n",
       "      <th>9869</th>\n",
       "      <td>Kuwait</td>\n",
       "      <td>SP.POP.GROW</td>\n",
       "      <td>0.696183</td>\n",
       "    </tr>\n",
       "    <tr>\n",
       "      <th>12491</th>\n",
       "      <td>Niger</td>\n",
       "      <td>SP.POP.GROW</td>\n",
       "      <td>0.540376</td>\n",
       "    </tr>\n",
       "    <tr>\n",
       "      <th>17800</th>\n",
       "      <td>Tanzania</td>\n",
       "      <td>SP.POP.GROW</td>\n",
       "      <td>0.439675</td>\n",
       "    </tr>\n",
       "    <tr>\n",
       "      <th>6949</th>\n",
       "      <td>The Gambia</td>\n",
       "      <td>SP.POP.GROW</td>\n",
       "      <td>0.437598</td>\n",
       "    </tr>\n",
       "    <tr>\n",
       "      <th>6255</th>\n",
       "      <td>Gabon</td>\n",
       "      <td>SP.POP.GROW</td>\n",
       "      <td>0.437585</td>\n",
       "    </tr>\n",
       "    <tr>\n",
       "      <th>19181</th>\n",
       "      <td>Zambia</td>\n",
       "      <td>SP.POP.GROW</td>\n",
       "      <td>0.423415</td>\n",
       "    </tr>\n",
       "    <tr>\n",
       "      <th>15150</th>\n",
       "      <td>Senegal</td>\n",
       "      <td>SP.POP.GROW</td>\n",
       "      <td>0.413748</td>\n",
       "    </tr>\n",
       "    <tr>\n",
       "      <th>11892</th>\n",
       "      <td>Mauritania</td>\n",
       "      <td>SP.POP.GROW</td>\n",
       "      <td>0.410622</td>\n",
       "    </tr>\n",
       "  </tbody>\n",
       "</table>\n",
       "</div>"
      ],
      "text/plain": [
       "       Short Name Indicator Code  Score_Synt_P\n",
       "14364       Qatar    SP.POP.GROW      0.883865\n",
       "13090        Oman    SP.POP.GROW      0.860948\n",
       "9869       Kuwait    SP.POP.GROW      0.696183\n",
       "12491       Niger    SP.POP.GROW      0.540376\n",
       "17800    Tanzania    SP.POP.GROW      0.439675\n",
       "6949   The Gambia    SP.POP.GROW      0.437598\n",
       "6255        Gabon    SP.POP.GROW      0.437585\n",
       "19181      Zambia    SP.POP.GROW      0.423415\n",
       "15150     Senegal    SP.POP.GROW      0.413748\n",
       "11892  Mauritania    SP.POP.GROW      0.410622"
      ]
     },
     "execution_count": 48,
     "metadata": {},
     "output_type": "execute_result"
    }
   ],
   "source": [
    "somme=0\n",
    "for i in years_:\n",
    "    somme += pop_growth[i]/pop_growth[i].max()\n",
    "pop_growth['Score_Synt_P'] = (somme)/len(years_)\n",
    "pop=pop_growth.sort_values('Score_Synt_P', ascending=False)[['Short Name', 'Indicator Code','Score_Synt_P']].iloc[:10]\n",
    "pop"
   ]
  },
  {
   "cell_type": "markdown",
   "id": "e31608ff",
   "metadata": {},
   "source": [
    "Il en découle le diagramme suivant:"
   ]
  },
  {
   "cell_type": "code",
   "execution_count": 49,
   "id": "e29e1a67",
   "metadata": {},
   "outputs": [
    {
     "data": {
      "image/png": "[encoded data removed]",
      "text/plain": [
       "<Figure size 1080x576 with 1 Axes>"
      ]
     },
     "metadata": {
      "needs_background": "light"
     },
     "output_type": "display_data"
    }
   ],
   "source": [
    "plt.figure(figsize = (15,8))\n",
    "ax = sns.barplot(x = 'Short Name', y = 'Score_Synt_P',data = pop)\n",
    "title=plt.title(\"Croissance de la Population par pays entre 2010 et 2016\")"
   ]
  },
  {
   "cell_type": "markdown",
   "id": "aba3dd46",
   "metadata": {},
   "source": [
    "Définissons un dataframe contenant uniquement cet indicateur relatif aux régions du monde."
   ]
  },
  {
   "cell_type": "code",
   "execution_count": 50,
   "id": "d79346a7",
   "metadata": {},
   "outputs": [],
   "source": [
    "pop_growth_r=indicateur_region ('SP.POP.GROW')"
   ]
  },
  {
   "cell_type": "markdown",
   "id": "f0005524",
   "metadata": {},
   "source": [
    "Affichons le nombre valeurs manquantes:"
   ]
  },
  {
   "cell_type": "code",
   "execution_count": 51,
   "id": "4d040bf1",
   "metadata": {},
   "outputs": [
    {
     "data": {
      "text/plain": [
       "Region            1\n",
       "Indicator Code    0\n",
       "2010              0\n",
       "2011              0\n",
       "2012              0\n",
       "2013              0\n",
       "2014              0\n",
       "2015              0\n",
       "2016              0\n",
       "2017              8\n",
       "2020              8\n",
       "dtype: int64"
      ]
     },
     "execution_count": 51,
     "metadata": {},
     "output_type": "execute_result"
    }
   ],
   "source": [
    "pop_growth_r.isna().sum()"
   ]
  },
  {
   "cell_type": "markdown",
   "id": "4050f9ad",
   "metadata": {},
   "source": [
    "Supprimons la ligne contenant la région manquante et les colonnes contenant que les valeurs manquantes."
   ]
  },
  {
   "cell_type": "code",
   "execution_count": 52,
   "id": "d61ed970",
   "metadata": {},
   "outputs": [],
   "source": [
    "index=pop_growth_r.loc[pop_growth_r['Region'].isna()].index\n",
    "pop_growth_r=pop_growth_r.drop(index)\n",
    "pop_growth_r=pop_growth_r.drop(columns=['2017', '2020'])"
   ]
  },
  {
   "cell_type": "markdown",
   "id": "07c36534",
   "metadata": {},
   "source": [
    "Comme pour les pays, affichons le classement par région relatif au Score_Synt_r_P."
   ]
  },
  {
   "cell_type": "code",
   "execution_count": 53,
   "id": "9f7b5f68",
   "metadata": {},
   "outputs": [
    {
     "data": {
      "text/html": [
       "<div>\n",
       "<style scoped>\n",
       "    .dataframe tbody tr th:only-of-type {\n",
       "        vertical-align: middle;\n",
       "    }\n",
       "\n",
       "    .dataframe tbody tr th {\n",
       "        vertical-align: top;\n",
       "    }\n",
       "\n",
       "    .dataframe thead th {\n",
       "        text-align: right;\n",
       "    }\n",
       "</style>\n",
       "<table border=\"1\" class=\"dataframe\">\n",
       "  <thead>\n",
       "    <tr style=\"text-align: right;\">\n",
       "      <th></th>\n",
       "      <th>Region</th>\n",
       "      <th>Indicator Code</th>\n",
       "      <th>Score_Synt_r_P</th>\n",
       "    </tr>\n",
       "  </thead>\n",
       "  <tbody>\n",
       "    <tr>\n",
       "      <th>13090</th>\n",
       "      <td>Middle East &amp; North Africa</td>\n",
       "      <td>SP.POP.GROW</td>\n",
       "      <td>1.000000</td>\n",
       "    </tr>\n",
       "    <tr>\n",
       "      <th>12266</th>\n",
       "      <td>Sub-Saharan Africa</td>\n",
       "      <td>SP.POP.GROW</td>\n",
       "      <td>0.349109</td>\n",
       "    </tr>\n",
       "    <tr>\n",
       "      <th>13053</th>\n",
       "      <td>East Asia &amp; Pacific</td>\n",
       "      <td>SP.POP.GROW</td>\n",
       "      <td>0.211055</td>\n",
       "    </tr>\n",
       "    <tr>\n",
       "      <th>12790</th>\n",
       "      <td>South Asia</td>\n",
       "      <td>SP.POP.GROW</td>\n",
       "      <td>0.189251</td>\n",
       "    </tr>\n",
       "    <tr>\n",
       "      <th>12787</th>\n",
       "      <td>Europe &amp; Central Asia</td>\n",
       "      <td>SP.POP.GROW</td>\n",
       "      <td>0.188019</td>\n",
       "    </tr>\n",
       "    <tr>\n",
       "      <th>18100</th>\n",
       "      <td>North America</td>\n",
       "      <td>SP.POP.GROW</td>\n",
       "      <td>0.122730</td>\n",
       "    </tr>\n",
       "    <tr>\n",
       "      <th>0</th>\n",
       "      <td>Latin America &amp; Caribbean</td>\n",
       "      <td>SP.POP.GROW</td>\n",
       "      <td>0.075688</td>\n",
       "    </tr>\n",
       "  </tbody>\n",
       "</table>\n",
       "</div>"
      ],
      "text/plain": [
       "                           Region Indicator Code  Score_Synt_r_P\n",
       "13090  Middle East & North Africa    SP.POP.GROW        1.000000\n",
       "12266          Sub-Saharan Africa    SP.POP.GROW        0.349109\n",
       "13053         East Asia & Pacific    SP.POP.GROW        0.211055\n",
       "12790                  South Asia    SP.POP.GROW        0.189251\n",
       "12787       Europe & Central Asia    SP.POP.GROW        0.188019\n",
       "18100               North America    SP.POP.GROW        0.122730\n",
       "0       Latin America & Caribbean    SP.POP.GROW        0.075688"
      ]
     },
     "execution_count": 53,
     "metadata": {},
     "output_type": "execute_result"
    }
   ],
   "source": [
    "somme=0\n",
    "for i in years_:\n",
    "    somme += pop_growth_r[i]/pop_growth_r[i].max()\n",
    "    pop_growth_r['Score_Synt_r_P'] = (somme)/len(years_)\n",
    "pop_r=pop_growth_r.sort_values('Score_Synt_r_P', ascending=False)[['Region', 'Indicator Code','Score_Synt_r_P']]\n",
    "pop_r"
   ]
  },
  {
   "cell_type": "markdown",
   "id": "467c9b1c",
   "metadata": {},
   "source": [
    "Il en découle le diagramme suivant:"
   ]
  },
  {
   "cell_type": "code",
   "execution_count": 54,
   "id": "67ab6547",
   "metadata": {},
   "outputs": [
    {
     "data": {
      "image/png": "[encoded data removed]",
      "text/plain": [
       "<Figure size 1080x576 with 1 Axes>"
      ]
     },
     "metadata": {
      "needs_background": "light"
     },
     "output_type": "display_data"
    }
   ],
   "source": [
    "plt.figure(figsize = (15,8))\n",
    "ax = sns.barplot(x = 'Score_Synt_r_P', y = 'Region',data = pop_r)\n",
    "title=plt.title(\"Croissance de la Population par régions du monde entre 2010 et 2016\")"
   ]
  },
  {
   "cell_type": "markdown",
   "id": "7c31c1e1",
   "metadata": {},
   "source": [
    "### Indicateur 'Internet users (per 100 people)'"
   ]
  },
  {
   "cell_type": "markdown",
   "id": "b218a716",
   "metadata": {},
   "source": [
    "Définissons un dataframe contenant uniquement cet indicateur relatif au pays."
   ]
  },
  {
   "cell_type": "code",
   "execution_count": 55,
   "id": "2dcd4fd0",
   "metadata": {},
   "outputs": [],
   "source": [
    "internet_users=indicateur ('IT.NET.USER.P2')"
   ]
  },
  {
   "cell_type": "markdown",
   "id": "ab8b7906",
   "metadata": {},
   "source": [
    "Affichons le nombre de  valeurs manquantes:"
   ]
  },
  {
   "cell_type": "code",
   "execution_count": 56,
   "id": "43d0efda",
   "metadata": {},
   "outputs": [
    {
     "data": {
      "text/plain": [
       "Short Name          0\n",
       "Indicator Code      0\n",
       "2010                9\n",
       "2011                8\n",
       "2012                9\n",
       "2013               10\n",
       "2014               10\n",
       "2015               10\n",
       "2016                9\n",
       "2017              139\n",
       "2020              139\n",
       "dtype: int64"
      ]
     },
     "execution_count": 56,
     "metadata": {},
     "output_type": "execute_result"
    }
   ],
   "source": [
    "internet_users.isna().sum()"
   ]
  },
  {
   "cell_type": "markdown",
   "id": "50432740",
   "metadata": {},
   "source": [
    "Eliminons les colonnes ne contenant que les valeurs manquantes:"
   ]
  },
  {
   "cell_type": "code",
   "execution_count": 57,
   "id": "11a9b935",
   "metadata": {},
   "outputs": [],
   "source": [
    "internet_users=internet_users.drop(columns=['2017', '2020'])"
   ]
  },
  {
   "cell_type": "markdown",
   "id": "3668ba3b",
   "metadata": {},
   "source": [
    "Nous  décidons de remplacer les valeurs manquantes d'une variable par sa valeur médiane."
   ]
  },
  {
   "cell_type": "code",
   "execution_count": 58,
   "id": "6917415a",
   "metadata": {},
   "outputs": [],
   "source": [
    "for i in years_:\n",
    "    internet_users.loc[internet_users[i].isna(),i] = internet_users[i].median()"
   ]
  },
  {
   "cell_type": "markdown",
   "id": "280ec94c",
   "metadata": {},
   "source": [
    "#### Création des scores "
   ]
  },
  {
   "cell_type": "markdown",
   "id": "d1e9e3c1",
   "metadata": {},
   "source": [
    "Comme pour l'indicateur précedent,créons une colonne Score_Synt_I contenant la moyenne des notes des années de notre intervalle temporel relatif à chaque pays."
   ]
  },
  {
   "cell_type": "code",
   "execution_count": 59,
   "id": "3da4c3eb",
   "metadata": {},
   "outputs": [
    {
     "data": {
      "text/html": [
       "<div>\n",
       "<style scoped>\n",
       "    .dataframe tbody tr th:only-of-type {\n",
       "        vertical-align: middle;\n",
       "    }\n",
       "\n",
       "    .dataframe tbody tr th {\n",
       "        vertical-align: top;\n",
       "    }\n",
       "\n",
       "    .dataframe thead th {\n",
       "        text-align: right;\n",
       "    }\n",
       "</style>\n",
       "<table border=\"1\" class=\"dataframe\">\n",
       "  <thead>\n",
       "    <tr style=\"text-align: right;\">\n",
       "      <th></th>\n",
       "      <th>Short Name</th>\n",
       "      <th>Indicator Code</th>\n",
       "      <th>Score_Synt_I</th>\n",
       "    </tr>\n",
       "  </thead>\n",
       "  <tbody>\n",
       "    <tr>\n",
       "      <th>8935</th>\n",
       "      <td>Iceland</td>\n",
       "      <td>IT.NET.USER.P2</td>\n",
       "      <td>0.999820</td>\n",
       "    </tr>\n",
       "    <tr>\n",
       "      <th>12755</th>\n",
       "      <td>Norway</td>\n",
       "      <td>IT.NET.USER.P2</td>\n",
       "      <td>0.987196</td>\n",
       "    </tr>\n",
       "    <tr>\n",
       "      <th>10594</th>\n",
       "      <td>Luxembourg</td>\n",
       "      <td>IT.NET.USER.P2</td>\n",
       "      <td>0.970520</td>\n",
       "    </tr>\n",
       "    <tr>\n",
       "      <th>5281</th>\n",
       "      <td>Denmark</td>\n",
       "      <td>IT.NET.USER.P2</td>\n",
       "      <td>0.968703</td>\n",
       "    </tr>\n",
       "    <tr>\n",
       "      <th>2640</th>\n",
       "      <td>Bermuda</td>\n",
       "      <td>IT.NET.USER.P2</td>\n",
       "      <td>0.964725</td>\n",
       "    </tr>\n",
       "    <tr>\n",
       "      <th>16211</th>\n",
       "      <td>Sweden</td>\n",
       "      <td>IT.NET.USER.P2</td>\n",
       "      <td>0.955412</td>\n",
       "    </tr>\n",
       "    <tr>\n",
       "      <th>12538</th>\n",
       "      <td>Netherlands</td>\n",
       "      <td>IT.NET.USER.P2</td>\n",
       "      <td>0.951563</td>\n",
       "    </tr>\n",
       "    <tr>\n",
       "      <th>10269</th>\n",
       "      <td>Liechtenstein</td>\n",
       "      <td>IT.NET.USER.P2</td>\n",
       "      <td>0.943608</td>\n",
       "    </tr>\n",
       "    <tr>\n",
       "      <th>285</th>\n",
       "      <td>Andorra</td>\n",
       "      <td>IT.NET.USER.P2</td>\n",
       "      <td>0.936150</td>\n",
       "    </tr>\n",
       "    <tr>\n",
       "      <th>6528</th>\n",
       "      <td>United Kingdom</td>\n",
       "      <td>IT.NET.USER.P2</td>\n",
       "      <td>0.926306</td>\n",
       "    </tr>\n",
       "  </tbody>\n",
       "</table>\n",
       "</div>"
      ],
      "text/plain": [
       "           Short Name  Indicator Code  Score_Synt_I\n",
       "8935          Iceland  IT.NET.USER.P2      0.999820\n",
       "12755          Norway  IT.NET.USER.P2      0.987196\n",
       "10594      Luxembourg  IT.NET.USER.P2      0.970520\n",
       "5281          Denmark  IT.NET.USER.P2      0.968703\n",
       "2640          Bermuda  IT.NET.USER.P2      0.964725\n",
       "16211          Sweden  IT.NET.USER.P2      0.955412\n",
       "12538     Netherlands  IT.NET.USER.P2      0.951563\n",
       "10269   Liechtenstein  IT.NET.USER.P2      0.943608\n",
       "285           Andorra  IT.NET.USER.P2      0.936150\n",
       "6528   United Kingdom  IT.NET.USER.P2      0.926306"
      ]
     },
     "execution_count": 59,
     "metadata": {},
     "output_type": "execute_result"
    }
   ],
   "source": [
    "somme=0\n",
    "for i in years_:\n",
    "    somme += internet_users[i]/internet_users[i].max()\n",
    "internet_users['Score_Synt_I'] = (somme)/len(years_)\n",
    "inte=internet_users.sort_values('Score_Synt_I', ascending=False)[['Short Name', 'Indicator Code','Score_Synt_I']].iloc[:10]\n",
    "inte"
   ]
  },
  {
   "cell_type": "markdown",
   "id": "14ed60ee",
   "metadata": {},
   "source": [
    "Il en découle le diagramme suivant:"
   ]
  },
  {
   "cell_type": "code",
   "execution_count": 60,
   "id": "22920334",
   "metadata": {},
   "outputs": [
    {
     "data": {
      "image/png": "[encoded data removed]",
      "text/plain": [
       "<Figure size 1080x576 with 1 Axes>"
      ]
     },
     "metadata": {
      "needs_background": "light"
     },
     "output_type": "display_data"
    }
   ],
   "source": [
    "plt.figure(figsize = (15,8))\n",
    "ax = sns.barplot(x = 'Short Name', y = 'Score_Synt_I',data = inte)\n",
    "title=plt.title(\" utilisateurs d'internet  par pays entre 2010 et 2016\")"
   ]
  },
  {
   "cell_type": "markdown",
   "id": "958cb442",
   "metadata": {},
   "source": [
    "Définissons un dataframe contenant uniquement cet indicateur relatif aux régions du monde."
   ]
  },
  {
   "cell_type": "code",
   "execution_count": 61,
   "id": "a4e56349",
   "metadata": {},
   "outputs": [],
   "source": [
    "internet_users_r=indicateur_region ('IT.NET.USER.P2')"
   ]
  },
  {
   "cell_type": "markdown",
   "id": "01f765c1",
   "metadata": {},
   "source": [
    "Affichons le nombre de valeurs manquantes:"
   ]
  },
  {
   "cell_type": "code",
   "execution_count": 62,
   "id": "78ee23de",
   "metadata": {},
   "outputs": [
    {
     "data": {
      "text/plain": [
       "Region            1\n",
       "Indicator Code    0\n",
       "2010              0\n",
       "2011              0\n",
       "2012              0\n",
       "2013              1\n",
       "2014              1\n",
       "2015              1\n",
       "2016              0\n",
       "2017              8\n",
       "2020              8\n",
       "dtype: int64"
      ]
     },
     "execution_count": 62,
     "metadata": {},
     "output_type": "execute_result"
    }
   ],
   "source": [
    "internet_users_r.isna().sum()"
   ]
  },
  {
   "cell_type": "markdown",
   "id": "1b384f24",
   "metadata": {},
   "source": [
    "Supprimons la ligne contenant la région manquante et les colonnes ne contenant que les valeurs manquantes."
   ]
  },
  {
   "cell_type": "code",
   "execution_count": 63,
   "id": "84c8fadd",
   "metadata": {},
   "outputs": [],
   "source": [
    "idex=internet_users_r.loc[internet_users_r['Region'].isna()].index\n",
    "internet_users_r=internet_users_r.drop(idex)\n",
    "internet_users_r=internet_users_r.drop(columns=['2017', '2020'])"
   ]
  },
  {
   "cell_type": "markdown",
   "id": "84cdd8dc",
   "metadata": {},
   "source": [
    "Comme pour les pays, affichons le classement par région du monde relatif au Score_Synt_r_I."
   ]
  },
  {
   "cell_type": "code",
   "execution_count": 64,
   "id": "5067f947",
   "metadata": {},
   "outputs": [
    {
     "data": {
      "text/html": [
       "<div>\n",
       "<style scoped>\n",
       "    .dataframe tbody tr th:only-of-type {\n",
       "        vertical-align: middle;\n",
       "    }\n",
       "\n",
       "    .dataframe tbody tr th {\n",
       "        vertical-align: top;\n",
       "    }\n",
       "\n",
       "    .dataframe thead th {\n",
       "        text-align: right;\n",
       "    }\n",
       "</style>\n",
       "<table border=\"1\" class=\"dataframe\">\n",
       "  <thead>\n",
       "    <tr style=\"text-align: right;\">\n",
       "      <th></th>\n",
       "      <th>Region</th>\n",
       "      <th>Indicator Code</th>\n",
       "      <th>Score_Synt_r_I</th>\n",
       "    </tr>\n",
       "  </thead>\n",
       "  <tbody>\n",
       "    <tr>\n",
       "      <th>12538</th>\n",
       "      <td>Europe &amp; Central Asia</td>\n",
       "      <td>IT.NET.USER.P2</td>\n",
       "      <td>0.995218</td>\n",
       "    </tr>\n",
       "    <tr>\n",
       "      <th>0</th>\n",
       "      <td>Latin America &amp; Caribbean</td>\n",
       "      <td>IT.NET.USER.P2</td>\n",
       "      <td>0.850772</td>\n",
       "    </tr>\n",
       "    <tr>\n",
       "      <th>18208</th>\n",
       "      <td>North America</td>\n",
       "      <td>IT.NET.USER.P2</td>\n",
       "      <td>0.791552</td>\n",
       "    </tr>\n",
       "    <tr>\n",
       "      <th>13066</th>\n",
       "      <td>Middle East &amp; North Africa</td>\n",
       "      <td>IT.NET.USER.P2</td>\n",
       "      <td>0.643821</td>\n",
       "    </tr>\n",
       "    <tr>\n",
       "      <th>11605</th>\n",
       "      <td>East Asia &amp; Pacific</td>\n",
       "      <td>IT.NET.USER.P2</td>\n",
       "      <td>0.186206</td>\n",
       "    </tr>\n",
       "    <tr>\n",
       "      <th>12827</th>\n",
       "      <td>South Asia</td>\n",
       "      <td>IT.NET.USER.P2</td>\n",
       "      <td>0.145439</td>\n",
       "    </tr>\n",
       "    <tr>\n",
       "      <th>12466</th>\n",
       "      <td>Sub-Saharan Africa</td>\n",
       "      <td>IT.NET.USER.P2</td>\n",
       "      <td>0.021586</td>\n",
       "    </tr>\n",
       "  </tbody>\n",
       "</table>\n",
       "</div>"
      ],
      "text/plain": [
       "                           Region  Indicator Code  Score_Synt_r_I\n",
       "12538       Europe & Central Asia  IT.NET.USER.P2        0.995218\n",
       "0       Latin America & Caribbean  IT.NET.USER.P2        0.850772\n",
       "18208               North America  IT.NET.USER.P2        0.791552\n",
       "13066  Middle East & North Africa  IT.NET.USER.P2        0.643821\n",
       "11605         East Asia & Pacific  IT.NET.USER.P2        0.186206\n",
       "12827                  South Asia  IT.NET.USER.P2        0.145439\n",
       "12466          Sub-Saharan Africa  IT.NET.USER.P2        0.021586"
      ]
     },
     "execution_count": 64,
     "metadata": {},
     "output_type": "execute_result"
    }
   ],
   "source": [
    "somme=0\n",
    "for i in years_:\n",
    "    somme += internet_users_r[i]/internet_users_r[i].max()\n",
    "    internet_users_r['Score_Synt_r_I'] = (somme)/len(years_)\n",
    "int_r=internet_users_r.sort_values('Score_Synt_r_I', ascending=False)[['Region', 'Indicator Code','Score_Synt_r_I']]\n",
    "int_r\n"
   ]
  },
  {
   "cell_type": "markdown",
   "id": "2a3f9336",
   "metadata": {},
   "source": [
    "Il en découle le diagramme suivant:"
   ]
  },
  {
   "cell_type": "code",
   "execution_count": 65,
   "id": "a025d7d9",
   "metadata": {},
   "outputs": [
    {
     "data": {
      "image/png": "[encoded data removed]",
      "text/plain": [
       "<Figure size 1080x576 with 1 Axes>"
      ]
     },
     "metadata": {
      "needs_background": "light"
     },
     "output_type": "display_data"
    }
   ],
   "source": [
    "plt.figure(figsize = (15,8))\n",
    "ax = sns.barplot(x = 'Score_Synt_r_I', y = 'Region',data = int_r)\n",
    "title=plt.title(\" utilisateurs d'internet  par régions du monde entre 2010 et 2016\")"
   ]
  },
  {
   "cell_type": "markdown",
   "id": "6c464698",
   "metadata": {},
   "source": [
    "### Indicateur 'GDP per capita (current US$)'"
   ]
  },
  {
   "cell_type": "markdown",
   "id": "c63c53aa",
   "metadata": {},
   "source": [
    "Définissons un dataframe contenant uniquement cet indicateur relatif au pays."
   ]
  },
  {
   "cell_type": "code",
   "execution_count": 66,
   "id": "18eb1122",
   "metadata": {},
   "outputs": [],
   "source": [
    "gdp_capita=indicateur ('NY.GDP.PCAP.CD')"
   ]
  },
  {
   "cell_type": "markdown",
   "id": "669a2322",
   "metadata": {},
   "source": [
    "Affichons le nombre valeurs manquantes:"
   ]
  },
  {
   "cell_type": "code",
   "execution_count": 67,
   "id": "b62555a9",
   "metadata": {},
   "outputs": [
    {
     "data": {
      "text/plain": [
       "Short Name          0\n",
       "Indicator Code      0\n",
       "2010                5\n",
       "2011                5\n",
       "2012                6\n",
       "2013                6\n",
       "2014                8\n",
       "2015                9\n",
       "2016               15\n",
       "2017              139\n",
       "2020              139\n",
       "dtype: int64"
      ]
     },
     "execution_count": 67,
     "metadata": {},
     "output_type": "execute_result"
    }
   ],
   "source": [
    "gdp_capita.isna().sum()"
   ]
  },
  {
   "cell_type": "markdown",
   "id": "f6cf93bc",
   "metadata": {},
   "source": [
    "Eliminons les colonnes ne contenant que les valeurs manquantes."
   ]
  },
  {
   "cell_type": "code",
   "execution_count": 68,
   "id": "6fd45c9c",
   "metadata": {},
   "outputs": [],
   "source": [
    "gdp_capita=gdp_capita.drop(columns=['2017', '2020'])"
   ]
  },
  {
   "cell_type": "markdown",
   "id": "2e235a92",
   "metadata": {},
   "source": [
    "Nous  décidons de remplacer les valeurs manquantes d'une variable par sa valeur médiane."
   ]
  },
  {
   "cell_type": "code",
   "execution_count": 69,
   "id": "921227e5",
   "metadata": {},
   "outputs": [],
   "source": [
    "for i in years_:\n",
    "    gdp_capita.loc[gdp_capita[i].isna(),i] = gdp_capita[i].median()"
   ]
  },
  {
   "cell_type": "markdown",
   "id": "ec63c756",
   "metadata": {},
   "source": [
    "#### Création des scores "
   ]
  },
  {
   "cell_type": "markdown",
   "id": "684262a5",
   "metadata": {},
   "source": [
    "Comme pour l'indicateur précedent,créons une colonne Score_Synt_G contenant la moyenne des notes des années de notre intervalle temporel relatif à chaque pays."
   ]
  },
  {
   "cell_type": "code",
   "execution_count": 70,
   "id": "a9bdab4d",
   "metadata": {},
   "outputs": [
    {
     "data": {
      "text/html": [
       "<div>\n",
       "<style scoped>\n",
       "    .dataframe tbody tr th:only-of-type {\n",
       "        vertical-align: middle;\n",
       "    }\n",
       "\n",
       "    .dataframe tbody tr th {\n",
       "        vertical-align: top;\n",
       "    }\n",
       "\n",
       "    .dataframe thead th {\n",
       "        text-align: right;\n",
       "    }\n",
       "</style>\n",
       "<table border=\"1\" class=\"dataframe\">\n",
       "  <thead>\n",
       "    <tr style=\"text-align: right;\">\n",
       "      <th></th>\n",
       "      <th>Short Name</th>\n",
       "      <th>Indicator Code</th>\n",
       "      <th>Score_Synt_G</th>\n",
       "    </tr>\n",
       "  </thead>\n",
       "  <tbody>\n",
       "    <tr>\n",
       "      <th>10147</th>\n",
       "      <td>Liechtenstein</td>\n",
       "      <td>NY.GDP.PCAP.CD</td>\n",
       "      <td>0.871847</td>\n",
       "    </tr>\n",
       "    <tr>\n",
       "      <th>10697</th>\n",
       "      <td>Luxembourg</td>\n",
       "      <td>NY.GDP.PCAP.CD</td>\n",
       "      <td>0.730425</td>\n",
       "    </tr>\n",
       "    <tr>\n",
       "      <th>12755</th>\n",
       "      <td>Norway</td>\n",
       "      <td>NY.GDP.PCAP.CD</td>\n",
       "      <td>0.603325</td>\n",
       "    </tr>\n",
       "    <tr>\n",
       "      <th>3585</th>\n",
       "      <td>Switzerland</td>\n",
       "      <td>NY.GDP.PCAP.CD</td>\n",
       "      <td>0.557463</td>\n",
       "    </tr>\n",
       "    <tr>\n",
       "      <th>14339</th>\n",
       "      <td>Qatar</td>\n",
       "      <td>NY.GDP.PCAP.CD</td>\n",
       "      <td>0.515994</td>\n",
       "    </tr>\n",
       "    <tr>\n",
       "      <th>10980</th>\n",
       "      <td>Macao SAR, China</td>\n",
       "      <td>NY.GDP.PCAP.CD</td>\n",
       "      <td>0.503262</td>\n",
       "    </tr>\n",
       "    <tr>\n",
       "      <th>8341</th>\n",
       "      <td>Isle of Man</td>\n",
       "      <td>NY.GDP.PCAP.CD</td>\n",
       "      <td>0.442636</td>\n",
       "    </tr>\n",
       "    <tr>\n",
       "      <th>1250</th>\n",
       "      <td>Australia</td>\n",
       "      <td>NY.GDP.PCAP.CD</td>\n",
       "      <td>0.397778</td>\n",
       "    </tr>\n",
       "    <tr>\n",
       "      <th>5224</th>\n",
       "      <td>Denmark</td>\n",
       "      <td>NY.GDP.PCAP.CD</td>\n",
       "      <td>0.391770</td>\n",
       "    </tr>\n",
       "    <tr>\n",
       "      <th>15295</th>\n",
       "      <td>San Marino</td>\n",
       "      <td>NY.GDP.PCAP.CD</td>\n",
       "      <td>0.383478</td>\n",
       "    </tr>\n",
       "  </tbody>\n",
       "</table>\n",
       "</div>"
      ],
      "text/plain": [
       "             Short Name  Indicator Code  Score_Synt_G\n",
       "10147     Liechtenstein  NY.GDP.PCAP.CD      0.871847\n",
       "10697        Luxembourg  NY.GDP.PCAP.CD      0.730425\n",
       "12755            Norway  NY.GDP.PCAP.CD      0.603325\n",
       "3585        Switzerland  NY.GDP.PCAP.CD      0.557463\n",
       "14339             Qatar  NY.GDP.PCAP.CD      0.515994\n",
       "10980  Macao SAR, China  NY.GDP.PCAP.CD      0.503262\n",
       "8341        Isle of Man  NY.GDP.PCAP.CD      0.442636\n",
       "1250          Australia  NY.GDP.PCAP.CD      0.397778\n",
       "5224            Denmark  NY.GDP.PCAP.CD      0.391770\n",
       "15295        San Marino  NY.GDP.PCAP.CD      0.383478"
      ]
     },
     "execution_count": 70,
     "metadata": {},
     "output_type": "execute_result"
    }
   ],
   "source": [
    "somme=0\n",
    "for i in years_:\n",
    "    somme += gdp_capita[i]/gdp_capita[i].max()\n",
    "    gdp_capita['Score_Synt_G'] = (somme)/len(years_)\n",
    "gdp=gdp_capita.sort_values('Score_Synt_G', ascending=False)[['Short Name', 'Indicator Code','Score_Synt_G']].iloc[:10]\n",
    "gdp"
   ]
  },
  {
   "cell_type": "markdown",
   "id": "2ec98086",
   "metadata": {},
   "source": [
    "Il en découle le diagramme suivant:"
   ]
  },
  {
   "cell_type": "code",
   "execution_count": 71,
   "id": "412f4672",
   "metadata": {},
   "outputs": [
    {
     "data": {
      "image/png": "[encoded data removed]",
      "text/plain": [
       "<Figure size 1080x576 with 1 Axes>"
      ]
     },
     "metadata": {
      "needs_background": "light"
     },
     "output_type": "display_data"
    }
   ],
   "source": [
    "plt.figure(figsize = (15,8))\n",
    "ax = sns.barplot(x = 'Short Name', y = 'Score_Synt_G',data = gdp)\n",
    "title=plt.title(\"PIB par Habitant et par pays entre 2010 et 2016\")\n"
   ]
  },
  {
   "cell_type": "markdown",
   "id": "394e72b6",
   "metadata": {},
   "source": [
    "Définissons un dataframe contenant uniquement cet indicateur relatif aux régions du monde."
   ]
  },
  {
   "cell_type": "code",
   "execution_count": 72,
   "id": "0d1c8e72",
   "metadata": {},
   "outputs": [],
   "source": [
    "gdp_capita_r=indicateur_region ('NY.GDP.PCAP.CD')"
   ]
  },
  {
   "cell_type": "markdown",
   "id": "14b340b5",
   "metadata": {},
   "source": [
    "Affichons le nombre valeurs manquantes:"
   ]
  },
  {
   "cell_type": "code",
   "execution_count": 73,
   "id": "a336f1b2",
   "metadata": {},
   "outputs": [
    {
     "data": {
      "text/plain": [
       "Region            1\n",
       "Indicator Code    0\n",
       "2010              1\n",
       "2011              1\n",
       "2012              1\n",
       "2013              1\n",
       "2014              1\n",
       "2015              1\n",
       "2016              1\n",
       "2017              8\n",
       "2020              8\n",
       "dtype: int64"
      ]
     },
     "execution_count": 73,
     "metadata": {},
     "output_type": "execute_result"
    }
   ],
   "source": [
    "gdp_capita_r.isna().sum()"
   ]
  },
  {
   "cell_type": "markdown",
   "id": "3cdc64b0",
   "metadata": {},
   "source": [
    "Supprimons la ligne contenant la région manquante et les colonnes ne contenant que les valeurs manquantes."
   ]
  },
  {
   "cell_type": "code",
   "execution_count": 74,
   "id": "ffcbc07e",
   "metadata": {},
   "outputs": [],
   "source": [
    "idex=gdp_capita_r.loc[gdp_capita_r['Region'].isna()].index\n",
    "gdp_capita_r=gdp_capita_r.drop(idex)\n",
    "gdp_capita_r=gdp_capita_r.drop(columns=['2017', '2020'])"
   ]
  },
  {
   "cell_type": "markdown",
   "id": "7db3c30a",
   "metadata": {},
   "source": [
    "Comme pour les pays affichons le classement des régions du monde par rapport à Score_Synt_r_G."
   ]
  },
  {
   "cell_type": "code",
   "execution_count": 75,
   "id": "23a105ab",
   "metadata": {},
   "outputs": [
    {
     "data": {
      "text/html": [
       "<div>\n",
       "<style scoped>\n",
       "    .dataframe tbody tr th:only-of-type {\n",
       "        vertical-align: middle;\n",
       "    }\n",
       "\n",
       "    .dataframe tbody tr th {\n",
       "        vertical-align: top;\n",
       "    }\n",
       "\n",
       "    .dataframe thead th {\n",
       "        text-align: right;\n",
       "    }\n",
       "</style>\n",
       "<table border=\"1\" class=\"dataframe\">\n",
       "  <thead>\n",
       "    <tr style=\"text-align: right;\">\n",
       "      <th></th>\n",
       "      <th>Region</th>\n",
       "      <th>Indicator Code</th>\n",
       "      <th>Score_Synt_r_G</th>\n",
       "    </tr>\n",
       "  </thead>\n",
       "  <tbody>\n",
       "    <tr>\n",
       "      <th>18083</th>\n",
       "      <td>North America</td>\n",
       "      <td>NY.GDP.PCAP.CD</td>\n",
       "      <td>0.984420</td>\n",
       "    </tr>\n",
       "    <tr>\n",
       "      <th>12538</th>\n",
       "      <td>Europe &amp; Central Asia</td>\n",
       "      <td>NY.GDP.PCAP.CD</td>\n",
       "      <td>0.925526</td>\n",
       "    </tr>\n",
       "    <tr>\n",
       "      <th>13066</th>\n",
       "      <td>Middle East &amp; North Africa</td>\n",
       "      <td>NY.GDP.PCAP.CD</td>\n",
       "      <td>0.362460</td>\n",
       "    </tr>\n",
       "    <tr>\n",
       "      <th>11744</th>\n",
       "      <td>East Asia &amp; Pacific</td>\n",
       "      <td>NY.GDP.PCAP.CD</td>\n",
       "      <td>0.295707</td>\n",
       "    </tr>\n",
       "    <tr>\n",
       "      <th>9660</th>\n",
       "      <td>Latin America &amp; Caribbean</td>\n",
       "      <td>NY.GDP.PCAP.CD</td>\n",
       "      <td>0.279772</td>\n",
       "    </tr>\n",
       "    <tr>\n",
       "      <th>12827</th>\n",
       "      <td>South Asia</td>\n",
       "      <td>NY.GDP.PCAP.CD</td>\n",
       "      <td>0.012829</td>\n",
       "    </tr>\n",
       "    <tr>\n",
       "      <th>12466</th>\n",
       "      <td>Sub-Saharan Africa</td>\n",
       "      <td>NY.GDP.PCAP.CD</td>\n",
       "      <td>0.007148</td>\n",
       "    </tr>\n",
       "  </tbody>\n",
       "</table>\n",
       "</div>"
      ],
      "text/plain": [
       "                           Region  Indicator Code  Score_Synt_r_G\n",
       "18083               North America  NY.GDP.PCAP.CD        0.984420\n",
       "12538       Europe & Central Asia  NY.GDP.PCAP.CD        0.925526\n",
       "13066  Middle East & North Africa  NY.GDP.PCAP.CD        0.362460\n",
       "11744         East Asia & Pacific  NY.GDP.PCAP.CD        0.295707\n",
       "9660    Latin America & Caribbean  NY.GDP.PCAP.CD        0.279772\n",
       "12827                  South Asia  NY.GDP.PCAP.CD        0.012829\n",
       "12466          Sub-Saharan Africa  NY.GDP.PCAP.CD        0.007148"
      ]
     },
     "execution_count": 75,
     "metadata": {},
     "output_type": "execute_result"
    }
   ],
   "source": [
    "somme=0\n",
    "for i in years_:\n",
    "    somme += gdp_capita_r[i]/gdp_capita_r[i].max()\n",
    "    gdp_capita_r['Score_Synt_r_G'] = (somme)/len(years_)\n",
    "gdp_r=gdp_capita_r.sort_values('Score_Synt_r_G', ascending=False)[['Region', 'Indicator Code','Score_Synt_r_G']]\n",
    "gdp_r"
   ]
  },
  {
   "cell_type": "markdown",
   "id": "c0141b88",
   "metadata": {},
   "source": [
    "Il en découle le diagramme suivant:"
   ]
  },
  {
   "cell_type": "code",
   "execution_count": 76,
   "id": "e93d0a46",
   "metadata": {},
   "outputs": [
    {
     "data": {
      "image/png": "[encoded data removed]",
      "text/plain": [
       "<Figure size 1080x576 with 1 Axes>"
      ]
     },
     "metadata": {
      "needs_background": "light"
     },
     "output_type": "display_data"
    }
   ],
   "source": [
    "plt.figure(figsize = (15,8))\n",
    "ax = sns.barplot(x = 'Score_Synt_r_G', y = 'Region',data = gdp_r)\n",
    "title=plt.title(\"PIB par habitant et par régions du monde entre 2010 et 2016\")"
   ]
  },
  {
   "cell_type": "markdown",
   "id": "d3c6f108",
   "metadata": {},
   "source": [
    "### Scores par pays et régions du monde relatif aux  trois indicateurs\n",
    "\n",
    "Pour chacun des trois indicateurs,nous allons définir une liste contenant les cinq pays y figurant le mieux."
   ]
  },
  {
   "cell_type": "code",
   "execution_count": 77,
   "id": "19c51b87",
   "metadata": {},
   "outputs": [],
   "source": [
    "a=pop['Short Name'].head(5)\n",
    "list_pop=list(a)\n",
    "b=inte['Short Name'].head(5)\n",
    "list_int=list(b)\n",
    "c=gdp['Short Name'].head(5)\n",
    "list_gdp=list(c)"
   ]
  },
  {
   "cell_type": "markdown",
   "id": "cd885ca2",
   "metadata": {},
   "source": [
    "Faisons l'union de ces trois listes de pays:"
   ]
  },
  {
   "cell_type": "code",
   "execution_count": 78,
   "id": "81141db5",
   "metadata": {},
   "outputs": [],
   "source": [
    "d=pd.concat([a,b])\n",
    "d=pd.concat([d,c])\n",
    "# retirons les doublons\n",
    "d=d.drop_duplicates()"
   ]
  },
  {
   "cell_type": "markdown",
   "id": "d90f3da8",
   "metadata": {},
   "source": [
    "Definissons un dataframe de ces pays:"
   ]
  },
  {
   "cell_type": "code",
   "execution_count": 79,
   "id": "97135082",
   "metadata": {},
   "outputs": [
    {
     "data": {
      "text/html": [
       "<div>\n",
       "<style scoped>\n",
       "    .dataframe tbody tr th:only-of-type {\n",
       "        vertical-align: middle;\n",
       "    }\n",
       "\n",
       "    .dataframe tbody tr th {\n",
       "        vertical-align: top;\n",
       "    }\n",
       "\n",
       "    .dataframe thead th {\n",
       "        text-align: right;\n",
       "    }\n",
       "</style>\n",
       "<table border=\"1\" class=\"dataframe\">\n",
       "  <thead>\n",
       "    <tr style=\"text-align: right;\">\n",
       "      <th></th>\n",
       "      <th>Short Name</th>\n",
       "    </tr>\n",
       "  </thead>\n",
       "  <tbody>\n",
       "    <tr>\n",
       "      <th>14364</th>\n",
       "      <td>Qatar</td>\n",
       "    </tr>\n",
       "    <tr>\n",
       "      <th>13090</th>\n",
       "      <td>Oman</td>\n",
       "    </tr>\n",
       "    <tr>\n",
       "      <th>9869</th>\n",
       "      <td>Kuwait</td>\n",
       "    </tr>\n",
       "    <tr>\n",
       "      <th>12491</th>\n",
       "      <td>Niger</td>\n",
       "    </tr>\n",
       "    <tr>\n",
       "      <th>17800</th>\n",
       "      <td>Tanzania</td>\n",
       "    </tr>\n",
       "    <tr>\n",
       "      <th>8935</th>\n",
       "      <td>Iceland</td>\n",
       "    </tr>\n",
       "    <tr>\n",
       "      <th>12755</th>\n",
       "      <td>Norway</td>\n",
       "    </tr>\n",
       "    <tr>\n",
       "      <th>10594</th>\n",
       "      <td>Luxembourg</td>\n",
       "    </tr>\n",
       "    <tr>\n",
       "      <th>5281</th>\n",
       "      <td>Denmark</td>\n",
       "    </tr>\n",
       "    <tr>\n",
       "      <th>2640</th>\n",
       "      <td>Bermuda</td>\n",
       "    </tr>\n",
       "    <tr>\n",
       "      <th>10147</th>\n",
       "      <td>Liechtenstein</td>\n",
       "    </tr>\n",
       "    <tr>\n",
       "      <th>3585</th>\n",
       "      <td>Switzerland</td>\n",
       "    </tr>\n",
       "  </tbody>\n",
       "</table>\n",
       "</div>"
      ],
      "text/plain": [
       "          Short Name\n",
       "14364          Qatar\n",
       "13090           Oman\n",
       "9869          Kuwait\n",
       "12491          Niger\n",
       "17800       Tanzania\n",
       "8935         Iceland\n",
       "12755         Norway\n",
       "10594     Luxembourg\n",
       "5281         Denmark\n",
       "2640         Bermuda\n",
       "10147  Liechtenstein\n",
       "3585     Switzerland"
      ]
     },
     "execution_count": 79,
     "metadata": {},
     "output_type": "execute_result"
    }
   ],
   "source": [
    "Syn_Pays=pd.DataFrame(d,columns=['Short Name'])\n",
    "Syn_Pays"
   ]
  },
  {
   "cell_type": "markdown",
   "id": "233de0d4",
   "metadata": {},
   "source": [
    "A chaque fois qu'un pays appartient à une liste, il voit son score incrémenté d'un point."
   ]
  },
  {
   "cell_type": "code",
   "execution_count": 80,
   "id": "2a9259e0",
   "metadata": {},
   "outputs": [],
   "source": [
    "indexes=Syn_Pays.index\n",
    "x1=np.array([])\n",
    "x2=np.array([])\n",
    "x3=np.array([])\n",
    "\n",
    "for i in indexes:\n",
    "    if Syn_Pays['Short Name'][i] in list_pop:\n",
    "        x1=np.append(x1,1)\n",
    "    else:\n",
    "        x1=np.append(x1,0)\n",
    "        \n",
    "    if Syn_Pays['Short Name'][i] in list_int:\n",
    "        x2=np.append(x2,1)\n",
    "    else:\n",
    "        x2=np.append(x2,0)\n",
    "        \n",
    "    if Syn_Pays['Short Name'][i] in list_gdp:\n",
    "        x3=np.append(x3,1)\n",
    "    else:\n",
    "        x3=np.append(x3,0)\n",
    "    "
   ]
  },
  {
   "cell_type": "markdown",
   "id": "0aa2e206",
   "metadata": {},
   "source": [
    "Créons une colonne 'Syn_indicateurs' contenant la somme des scores obtenus."
   ]
  },
  {
   "cell_type": "code",
   "execution_count": 81,
   "id": "059c8af8",
   "metadata": {},
   "outputs": [
    {
     "data": {
      "text/html": [
       "<div>\n",
       "<style scoped>\n",
       "    .dataframe tbody tr th:only-of-type {\n",
       "        vertical-align: middle;\n",
       "    }\n",
       "\n",
       "    .dataframe tbody tr th {\n",
       "        vertical-align: top;\n",
       "    }\n",
       "\n",
       "    .dataframe thead th {\n",
       "        text-align: right;\n",
       "    }\n",
       "</style>\n",
       "<table border=\"1\" class=\"dataframe\">\n",
       "  <thead>\n",
       "    <tr style=\"text-align: right;\">\n",
       "      <th></th>\n",
       "      <th>Short Name</th>\n",
       "      <th>Syn_indicateurs</th>\n",
       "    </tr>\n",
       "  </thead>\n",
       "  <tbody>\n",
       "    <tr>\n",
       "      <th>14364</th>\n",
       "      <td>Qatar</td>\n",
       "      <td>2.0</td>\n",
       "    </tr>\n",
       "    <tr>\n",
       "      <th>12755</th>\n",
       "      <td>Norway</td>\n",
       "      <td>2.0</td>\n",
       "    </tr>\n",
       "    <tr>\n",
       "      <th>10594</th>\n",
       "      <td>Luxembourg</td>\n",
       "      <td>2.0</td>\n",
       "    </tr>\n",
       "    <tr>\n",
       "      <th>13090</th>\n",
       "      <td>Oman</td>\n",
       "      <td>1.0</td>\n",
       "    </tr>\n",
       "    <tr>\n",
       "      <th>9869</th>\n",
       "      <td>Kuwait</td>\n",
       "      <td>1.0</td>\n",
       "    </tr>\n",
       "    <tr>\n",
       "      <th>12491</th>\n",
       "      <td>Niger</td>\n",
       "      <td>1.0</td>\n",
       "    </tr>\n",
       "    <tr>\n",
       "      <th>17800</th>\n",
       "      <td>Tanzania</td>\n",
       "      <td>1.0</td>\n",
       "    </tr>\n",
       "    <tr>\n",
       "      <th>8935</th>\n",
       "      <td>Iceland</td>\n",
       "      <td>1.0</td>\n",
       "    </tr>\n",
       "    <tr>\n",
       "      <th>5281</th>\n",
       "      <td>Denmark</td>\n",
       "      <td>1.0</td>\n",
       "    </tr>\n",
       "    <tr>\n",
       "      <th>2640</th>\n",
       "      <td>Bermuda</td>\n",
       "      <td>1.0</td>\n",
       "    </tr>\n",
       "    <tr>\n",
       "      <th>10147</th>\n",
       "      <td>Liechtenstein</td>\n",
       "      <td>1.0</td>\n",
       "    </tr>\n",
       "    <tr>\n",
       "      <th>3585</th>\n",
       "      <td>Switzerland</td>\n",
       "      <td>1.0</td>\n",
       "    </tr>\n",
       "  </tbody>\n",
       "</table>\n",
       "</div>"
      ],
      "text/plain": [
       "          Short Name  Syn_indicateurs\n",
       "14364          Qatar              2.0\n",
       "12755         Norway              2.0\n",
       "10594     Luxembourg              2.0\n",
       "13090           Oman              1.0\n",
       "9869          Kuwait              1.0\n",
       "12491          Niger              1.0\n",
       "17800       Tanzania              1.0\n",
       "8935         Iceland              1.0\n",
       "5281         Denmark              1.0\n",
       "2640         Bermuda              1.0\n",
       "10147  Liechtenstein              1.0\n",
       "3585     Switzerland              1.0"
      ]
     },
     "execution_count": 81,
     "metadata": {},
     "output_type": "execute_result"
    }
   ],
   "source": [
    "Syn_Pays['Syn_indicateurs']=x1+x2+x3\n",
    "Syn_Pays=Syn_Pays.sort_values('Syn_indicateurs', ascending=False)[['Short Name','Syn_indicateurs']]\n",
    "Syn_Pays"
   ]
  },
  {
   "cell_type": "markdown",
   "id": "70c8ad4d",
   "metadata": {},
   "source": [
    "Pour chacun des trois indicateurs, nous allons définir une liste contenant les cinq régions du monde y figurant le mieux."
   ]
  },
  {
   "cell_type": "code",
   "execution_count": 82,
   "id": "10d5a7a4",
   "metadata": {},
   "outputs": [],
   "source": [
    "a=pop_r['Region'].head(5)\n",
    "list_pop=list(a)\n",
    "b=int_r['Region'].head(5)\n",
    "list_int=list(b)\n",
    "c=gdp_r['Region'].head(5)\n",
    "list_gdp=list(c)"
   ]
  },
  {
   "cell_type": "markdown",
   "id": "c79e5ee8",
   "metadata": {},
   "source": [
    "Faisons l'union de ces trois listes de région du monde:"
   ]
  },
  {
   "cell_type": "code",
   "execution_count": 83,
   "id": "658b088a",
   "metadata": {},
   "outputs": [],
   "source": [
    "d=pd.concat([a,b])\n",
    "d=pd.concat([d,c])\n",
    "# retirons les doublons\n",
    "d=d.drop_duplicates()"
   ]
  },
  {
   "cell_type": "markdown",
   "id": "dcab5b8a",
   "metadata": {},
   "source": [
    "Définissons un dataframe de ces régions du monde:"
   ]
  },
  {
   "cell_type": "code",
   "execution_count": 84,
   "id": "9ebfa32b",
   "metadata": {},
   "outputs": [
    {
     "data": {
      "text/html": [
       "<div>\n",
       "<style scoped>\n",
       "    .dataframe tbody tr th:only-of-type {\n",
       "        vertical-align: middle;\n",
       "    }\n",
       "\n",
       "    .dataframe tbody tr th {\n",
       "        vertical-align: top;\n",
       "    }\n",
       "\n",
       "    .dataframe thead th {\n",
       "        text-align: right;\n",
       "    }\n",
       "</style>\n",
       "<table border=\"1\" class=\"dataframe\">\n",
       "  <thead>\n",
       "    <tr style=\"text-align: right;\">\n",
       "      <th></th>\n",
       "      <th>Region</th>\n",
       "    </tr>\n",
       "  </thead>\n",
       "  <tbody>\n",
       "    <tr>\n",
       "      <th>13090</th>\n",
       "      <td>Middle East &amp; North Africa</td>\n",
       "    </tr>\n",
       "    <tr>\n",
       "      <th>12266</th>\n",
       "      <td>Sub-Saharan Africa</td>\n",
       "    </tr>\n",
       "    <tr>\n",
       "      <th>13053</th>\n",
       "      <td>East Asia &amp; Pacific</td>\n",
       "    </tr>\n",
       "    <tr>\n",
       "      <th>12790</th>\n",
       "      <td>South Asia</td>\n",
       "    </tr>\n",
       "    <tr>\n",
       "      <th>12787</th>\n",
       "      <td>Europe &amp; Central Asia</td>\n",
       "    </tr>\n",
       "    <tr>\n",
       "      <th>0</th>\n",
       "      <td>Latin America &amp; Caribbean</td>\n",
       "    </tr>\n",
       "    <tr>\n",
       "      <th>18208</th>\n",
       "      <td>North America</td>\n",
       "    </tr>\n",
       "  </tbody>\n",
       "</table>\n",
       "</div>"
      ],
      "text/plain": [
       "                           Region\n",
       "13090  Middle East & North Africa\n",
       "12266          Sub-Saharan Africa\n",
       "13053         East Asia & Pacific\n",
       "12790                  South Asia\n",
       "12787       Europe & Central Asia\n",
       "0       Latin America & Caribbean\n",
       "18208               North America"
      ]
     },
     "execution_count": 84,
     "metadata": {},
     "output_type": "execute_result"
    }
   ],
   "source": [
    "Syn_Region=pd.DataFrame(d,columns=['Region'])\n",
    "Syn_Region"
   ]
  },
  {
   "cell_type": "markdown",
   "id": "6e806e04",
   "metadata": {},
   "source": [
    "A chaque fois qu'une région du monde appartient à une liste, elle voit son score incrémenté  d'un point."
   ]
  },
  {
   "cell_type": "code",
   "execution_count": 85,
   "id": "5ff4bf53",
   "metadata": {},
   "outputs": [],
   "source": [
    "indexes=Syn_Region.index\n",
    "x1=np.array([])\n",
    "x2=np.array([])\n",
    "x3=np.array([])\n",
    "\n",
    "for i in indexes:\n",
    "    if Syn_Region['Region'][i] in list_pop:\n",
    "        x1=np.append(x1,1)\n",
    "    else:\n",
    "        x1=np.append(x1,0)\n",
    "        \n",
    "    if Syn_Region['Region'][i] in list_int:\n",
    "        x2=np.append(x2,1)\n",
    "    else:\n",
    "        x2=np.append(x2,0)\n",
    "        \n",
    "    if Syn_Region['Region'][i] in list_gdp:\n",
    "        x3=np.append(x3,1)\n",
    "    else:\n",
    "        x3=np.append(x3,0)\n",
    "    "
   ]
  },
  {
   "cell_type": "markdown",
   "id": "ab34bc63",
   "metadata": {},
   "source": [
    "Créons une colonne 'Syn_indicateurs' contenant la somme des scores obtenus."
   ]
  },
  {
   "cell_type": "code",
   "execution_count": 86,
   "id": "04886f1a",
   "metadata": {},
   "outputs": [
    {
     "data": {
      "text/html": [
       "<div>\n",
       "<style scoped>\n",
       "    .dataframe tbody tr th:only-of-type {\n",
       "        vertical-align: middle;\n",
       "    }\n",
       "\n",
       "    .dataframe tbody tr th {\n",
       "        vertical-align: top;\n",
       "    }\n",
       "\n",
       "    .dataframe thead th {\n",
       "        text-align: right;\n",
       "    }\n",
       "</style>\n",
       "<table border=\"1\" class=\"dataframe\">\n",
       "  <thead>\n",
       "    <tr style=\"text-align: right;\">\n",
       "      <th></th>\n",
       "      <th>Region</th>\n",
       "      <th>Syn_indicateurs</th>\n",
       "    </tr>\n",
       "  </thead>\n",
       "  <tbody>\n",
       "    <tr>\n",
       "      <th>13090</th>\n",
       "      <td>Middle East &amp; North Africa</td>\n",
       "      <td>3.0</td>\n",
       "    </tr>\n",
       "    <tr>\n",
       "      <th>13053</th>\n",
       "      <td>East Asia &amp; Pacific</td>\n",
       "      <td>3.0</td>\n",
       "    </tr>\n",
       "    <tr>\n",
       "      <th>12787</th>\n",
       "      <td>Europe &amp; Central Asia</td>\n",
       "      <td>3.0</td>\n",
       "    </tr>\n",
       "    <tr>\n",
       "      <th>0</th>\n",
       "      <td>Latin America &amp; Caribbean</td>\n",
       "      <td>2.0</td>\n",
       "    </tr>\n",
       "    <tr>\n",
       "      <th>18208</th>\n",
       "      <td>North America</td>\n",
       "      <td>2.0</td>\n",
       "    </tr>\n",
       "    <tr>\n",
       "      <th>12266</th>\n",
       "      <td>Sub-Saharan Africa</td>\n",
       "      <td>1.0</td>\n",
       "    </tr>\n",
       "    <tr>\n",
       "      <th>12790</th>\n",
       "      <td>South Asia</td>\n",
       "      <td>1.0</td>\n",
       "    </tr>\n",
       "  </tbody>\n",
       "</table>\n",
       "</div>"
      ],
      "text/plain": [
       "                           Region  Syn_indicateurs\n",
       "13090  Middle East & North Africa              3.0\n",
       "13053         East Asia & Pacific              3.0\n",
       "12787       Europe & Central Asia              3.0\n",
       "0       Latin America & Caribbean              2.0\n",
       "18208               North America              2.0\n",
       "12266          Sub-Saharan Africa              1.0\n",
       "12790                  South Asia              1.0"
      ]
     },
     "execution_count": 86,
     "metadata": {},
     "output_type": "execute_result"
    }
   ],
   "source": [
    "Syn_Region['Syn_indicateurs']=x1+x2+x3\n",
    "Syn_Region=Syn_Region.sort_values('Syn_indicateurs', ascending=False)[['Region','Syn_indicateurs']]\n",
    "Syn_Region"
   ]
  },
  {
   "cell_type": "markdown",
   "id": "2aeff927",
   "metadata": {},
   "source": [
    "# Conclusion\n",
    "\n",
    "Les données de la banque mondiale nous fournissent assez d'éléments sur le projet d'expansion de l'entreprise.\n",
    "\n",
    "Il en ressort que le classement des  trois pays ayant un fort potentiel de clients pour nos services relatif à leur forte croissance démographique ,au nombre d'utilisateurs d'internet et au PIB par habitant sont:\n",
    "\n",
    " - Qatar\n",
    " - Norway\n",
    " - Luxembourg\n",
    " \n",
    "Et celui des régions du monde  ayant un fort potentiel de clients pour nos services est:\n",
    " - Europe & Central Asia\t\n",
    " - Middle East & North Africa\n",
    " - East Asia & Pacific"
   ]
  },
  {
   "cell_type": "code",
   "execution_count": null,
   "id": "53144c0d",
   "metadata": {},
   "outputs": [],
   "source": []
  }
 ],
 "metadata": {
  "kernelspec": {
   "display_name": "Python 3 (ipykernel)",
   "language": "python",
   "name": "python3"
  },
  "language_info": {
   "codemirror_mode": {
    "name": "ipython",
    "version": 3
   },
   "file_extension": ".py",
   "mimetype": "text/x-python",
   "name": "python",
   "nbconvert_exporter": "python",
   "pygments_lexer": "ipython3",
   "version": "3.9.12"
  }
 },
 "nbformat": 4,
 "nbformat_minor": 5
}
